{
 "cells": [
  {
   "cell_type": "code",
   "execution_count": 1,
   "id": "bef895a1-3185-4caa-862e-7b334501ed8c",
   "metadata": {},
   "outputs": [],
   "source": [
    "import os\n",
    "import pandas as pd\n",
    "import numpy as np\n",
    "import tkinter as tk\n",
    "from xlsx2html import xlsx2html\n",
    "import xlsxwriter\n",
    "import tkinter.filedialog as fd\n",
    "import time\n",
    "from openpyxl.workbook import Workbook\n",
    "from openpyxl.reader.excel import load_workbook\n",
    "import time\n",
    "import datetime"
   ]
  },
  {
   "cell_type": "code",
   "execution_count": 2,
   "id": "2d19fb68-f0f6-48e1-8e82-cf2cc581daec",
   "metadata": {},
   "outputs": [],
   "source": [
    "root = tk.Tk()\n",
    "file = fd.askopenfilename(parent=root, title='Choose a Base file')\n",
    "root.destroy()\n",
    "df = pd.read_excel(file, skiprows=9, keep_default_na=False)"
   ]
  },
  {
   "cell_type": "code",
   "execution_count": 3,
   "id": "a34d9afd-f562-485e-85b9-a9437b64d459",
   "metadata": {},
   "outputs": [],
   "source": [
    "df['Total Weight shipped (kg)'].dtype\n",
    "df['Total Weight shipped (kg)'] = pd.to_numeric(df['Total Weight shipped (kg)'], errors='coerce')\n",
    "df['Total Weight shipped (kg)'] = df['Total Weight shipped (kg)'].fillna(0)\n",
    "df2=df\n",
    "\n",
    "df2['Has Shipped Weight'] = df2['Total Weight shipped (kg)'].apply(\n",
    "    lambda x: 'Yes' if pd.notna(x) and x != 0 else 'No'\n",
    ")\n",
    "df2 = df2[df2['Sub Sector'] != 'Personal Health Care']\n",
    "df2= df2[df2['Has Shipped Weight'] == 'Yes']\n",
    "df2['Consumer Packagining'] = df2['BOM Packing Level'].apply(lambda x: 'Yes' if x == 'Consumer Packaging' else 'No')\n",
    "\n",
    "df2= df2[df2['Consumer Packagining'] == 'Yes']\n",
    "\n",
    "df2['B-to-B / Minor Brands'] = df2['Brand'].apply(lambda x: 'No' if 'Minor Brands' in str(x) else 'Yes')\n",
    "\n",
    "df2= df2[df2['B-to-B / Minor Brands'] == 'Yes']\n",
    "\n",
    "output_file = 'Base_file.xlsx'\n",
    "df2.to_excel(output_file, index=False)"
   ]
  },
  {
   "cell_type": "markdown",
   "id": "d370579d-4f30-420a-b93c-1ee741e97f50",
   "metadata": {},
   "source": [
    "### lcm Type"
   ]
  },
  {
   "cell_type": "code",
   "execution_count": 4,
   "id": "eb534574-e618-4775-93f9-31487141199e",
   "metadata": {},
   "outputs": [],
   "source": [
    "root = tk.Tk()\n",
    "file = fd.askopenfilename(parent=root, title='Choose a LCM Master file')\n",
    "root.destroy()\n",
    "LCM_Master = pd.read_excel(file, keep_default_na=False)"
   ]
  },
  {
   "cell_type": "code",
   "execution_count": 5,
   "id": "6e60ca7e-2620-4484-b47b-a88915141e75",
   "metadata": {},
   "outputs": [],
   "source": [
    "df3=df"
   ]
  },
  {
   "cell_type": "code",
   "execution_count": 6,
   "id": "9a99a06e-8fff-40f9-9901-9c6ca60b2132",
   "metadata": {},
   "outputs": [],
   "source": [
    "df3 = df[['Legacy Environmental Class','Total Weight shipped (kg)']]\n",
    "\n",
    "LCM_with_data = df3.groupby('Legacy Environmental Class')['Total Weight shipped (kg)'].sum().reset_index()\n",
    "LCM_Type=pd.merge(LCM_with_data,LCM_Master[['Legacy Environmental Class','Classification']], left_on='Legacy Environmental Class', right_on='Legacy Environmental Class', how='left')\n",
    "\n",
    "LCM_Type['Comment']= ' '\n",
    "output_file_with_data = 'LCM_Type.xlsx'\n",
    "\n",
    "LCM_Type.to_excel(output_file_with_data, index=False)"
   ]
  },
  {
   "cell_type": "code",
   "execution_count": 7,
   "id": "aabcd918-7221-4b04-9a5b-7205afeb25e9",
   "metadata": {},
   "outputs": [],
   "source": [
    "root = tk.Tk()\n",
    "file = fd.askopenfilename(parent=root, title='Choose a LCM Type file')\n",
    "root.destroy()\n",
    "LCM = pd.read_excel(file, keep_default_na=False)\n",
    "\n",
    "\n",
    "LCM_Type_new=pd.merge(df2,LCM[['Legacy Environmental Class','Classification']], left_on='Legacy Environmental Class', right_on='Legacy Environmental Class', how='left')\n",
    "\n",
    "LCM_Type_new = LCM_Type_new.rename(columns={'Classification':'Initial MCP Classification'})\n",
    "\n",
    "\n",
    "output_file_with_data = 'LCM_Type_new.xlsx'\n",
    "LCM_Type_new.to_excel(output_file_with_data, index=False)"
   ]
  },
  {
   "cell_type": "code",
   "execution_count": 8,
   "id": "eabfb3b5-a6e6-4c32-b0ac-085279fbdb63",
   "metadata": {},
   "outputs": [
    {
     "name": "stderr",
     "output_type": "stream",
     "text": [
      "C:\\Users\\Kamlesh\\AppData\\Local\\Temp\\ipykernel_2336\\3176179216.py:9: FutureWarning: Downcasting object dtype arrays on .fillna, .ffill, .bfill is deprecated and will change in a future version. Call result.infer_objects(copy=False) instead. To opt-in to the future behavior, set `pd.set_option('future.no_silent_downcasting', True)`\n",
      "  .fillna(0)\n"
     ]
    }
   ],
   "source": [
    "dff = LCM_Type_new\n",
    "\n",
    "# 1) Pivot\n",
    "Composite_Mat_Check = (\n",
    "    dff.groupby(['Packaging Part Name', 'Initial MCP Classification'])['MCP Percentage']\n",
    "      .sum().reset_index()\n",
    "      .pivot(index='Packaging Part Name', columns='Initial MCP Classification', values='MCP Percentage')\n",
    "      .reset_index()\n",
    "    .fillna(0)\n",
    ")\n",
    "\n",
    "# 2) Detect columns (keep each Glass variant separate)\n",
    "all_cols = [c for c in Composite_Mat_Check.columns if isinstance(c, str)]\n",
    "glass_cols  = [c for c in all_cols if c.lower().startswith('glass')]   # e.g., Glass Other, Glass Colourless, Glass Amber, Glass\n",
    "other_cols  = [c for c in ['Plastic','Paper', 'PET', 'NA'] if c in Composite_Mat_Check.columns]\n",
    "present_materials = glass_cols + other_cols  # only what exists; skip missing\n",
    "\n",
    "# 3) Totals\n",
    "Composite_Mat_Check['Total'] = Composite_Mat_Check[present_materials].sum(axis=1)\n",
    "Composite_Mat_Check['Total_check'] = Composite_Mat_Check['Total'] / 100.0\n",
    "\n",
    "# 4) Normalize per material (create *_check columns only for present materials)\n",
    "for m in present_materials:\n",
    "    Composite_Mat_Check[f'{m}_check'] = (\n",
    "        Composite_Mat_Check[m] / Composite_Mat_Check['Total_check'].replace(0, np.nan)\n",
    "    )\n",
    "\n",
    "# 5) Clean NaNs from divide-by-zero\n",
    "check_cols = [f'{m}_check' for m in present_materials]\n",
    "Composite_Mat_Check[check_cols] = Composite_Mat_Check[check_cols].fillna(0)\n",
    "\n",
    "# 6) Drop originals & helper cols (keep only normalized material columns, plus Packaging Part Name)\n",
    "Composite_Mat_Check.drop(columns=present_materials + ['Total_check'], errors='ignore', inplace=True)\n",
    "\n",
    "# 7) Rename *_check back to original names\n",
    "Composite_Mat_Check.rename(columns={f'{m}_check': m for m in present_materials}, inplace=True)\n",
    "\n",
    "# 8) Recompute Total/Max on the normalized columns\n",
    "Composite_Mat_Check['Total'] = Composite_Mat_Check[present_materials].sum(axis=1).round()\n",
    "Composite_Mat_Check['Max']   = Composite_Mat_Check[present_materials].max(axis=1)\n",
    "\n",
    "# 9) Priority for tie-breaks: put Glass variants first (in a sensible order), then others\n",
    "glass_priority_order = ['Glass Colourless', 'Glass Amber', 'Glass Other', 'Glass']\n",
    "priority_cols = [c for c in glass_priority_order if c in Composite_Mat_Check.columns] + \\\n",
    "                [c for c in ['Plastic','Paper', 'PET', 'NA'] if c in Composite_Mat_Check.columns]\n",
    "\n",
    "# Final classification prefers earlier columns in priority_cols on ties\n",
    "Composite_Mat_Check['Final Classification'] = Composite_Mat_Check[priority_cols].idxmax(axis=1)\n",
    "\n",
    "# 10) Save\n",
    "output_file_with_data = 'Composite_Mat_Check.xlsx'\n",
    "Composite_Mat_Check.to_excel(output_file_with_data, index=False)"
   ]
  },
  {
   "cell_type": "code",
   "execution_count": 9,
   "id": "59ac033b-8aae-471c-876c-fbe7ee47b182",
   "metadata": {},
   "outputs": [],
   "source": [
    "\n",
    "# dff = LCM_Type_new\n",
    "\n",
    "# Composite_Mat_Check = dff.groupby(\n",
    "#     ['Packaging Part Name', 'Initial MCP Classification']\n",
    "# )['MCP Percentage'].sum().reset_index()\n",
    "\n",
    "# Composite_Mat_Check = Composite_Mat_Check.pivot(\n",
    "#     index='Packaging Part Name',\n",
    "#     columns='Initial MCP Classification',\n",
    "#     values='MCP Percentage'\n",
    "# ).reset_index()\n",
    "\n",
    "# Composite_Mat_Check.fillna(0, inplace=True)\n",
    "\n",
    "# # --- ensure all expected material columns exist (add 0 if missing)\n",
    "# for m in ['Glass', 'NA', 'Paper', 'PET', 'Plastic']:\n",
    "#     if m not in Composite_Mat_Check.columns:\n",
    "#         Composite_Mat_Check[m] = 0\n",
    "\n",
    "# Composite_Mat_Check['Total'] = Composite_Mat_Check.sum(axis=1, numeric_only=True)\n",
    "\n",
    "# # Composite_Mat_Check = Composite_Mat_Check.append(total_row, ignore_index=True)  # (left as-is in your code but commented)\n",
    "\n",
    "# # Use safe denominator (avoid divide-by-zero)\n",
    "# den = Composite_Mat_Check['Total'].replace(0, np.nan)\n",
    "# Composite_Mat_Check['Total_check'] = Composite_Mat_Check['Total'] / 100\n",
    "\n",
    "# # Use bracket access (works even if a column was just added above)\n",
    "# Composite_Mat_Check['Glass_check']   = Composite_Mat_Check['Glass']   / (Composite_Mat_Check['Total_check'].replace(0, np.nan))\n",
    "# Composite_Mat_Check['NA_check']      = Composite_Mat_Check['NA']      / (Composite_Mat_Check['Total_check'].replace(0, np.nan))\n",
    "# Composite_Mat_Check['Paper_check']   = Composite_Mat_Check['Paper']   / (Composite_Mat_Check['Total_check'].replace(0, np.nan))\n",
    "# Composite_Mat_Check['PET_check']     = Composite_Mat_Check['PET']     / (Composite_Mat_Check['Total_check'].replace(0, np.nan))\n",
    "# Composite_Mat_Check['Plastic_check'] = Composite_Mat_Check['Plastic'] / (Composite_Mat_Check['Total_check'].replace(0, np.nan))\n",
    "\n",
    "# # Any divisions that hit NaN (because Total was 0) become 0\n",
    "# Composite_Mat_Check[['Glass_check','NA_check','Paper_check','PET_check','Plastic_check']] = \\\n",
    "#     Composite_Mat_Check[['Glass_check','NA_check','Paper_check','PET_check','Plastic_check']].fillna(0)\n",
    "\n",
    "# # Drop original material columns & helpers (ignore if not present)\n",
    "# Composite_Mat_Check = Composite_Mat_Check.drop(\n",
    "#     columns=['Glass','NA','PET','Paper','Plastic','Total','Total_check'],\n",
    "#     errors='ignore'\n",
    "# )\n",
    "\n",
    "# # Rename _check back to original names (as in your code)\n",
    "# Composite_Mat_Check = Composite_Mat_Check.rename(columns={\n",
    "#     'Glass_check':'Glass',\n",
    "#     'NA_check':'NA',\n",
    "#     'Paper_check':'Paper',\n",
    "#     'PET_check':'PET',\n",
    "#     'Plastic_check':'Plastic'\n",
    "# })\n",
    "\n",
    "# # Recompute Total & Max with your original approach\n",
    "# Composite_Mat_Check['Total'] = Composite_Mat_Check.sum(axis=1, numeric_only=True)\n",
    "# Composite_Mat_Check['Total'] = Composite_Mat_Check['Total'].round()\n",
    "\n",
    "# Composite_Mat_Check['Max'] = Composite_Mat_Check.iloc[:, 1:-1].max(axis=1)\n",
    "# Composite_Mat_Check['Final Classification'] = Composite_Mat_Check.iloc[:, 1:-2].idxmax(axis=1)\n",
    "\n",
    "# output_file_with_data = 'Composite_Mat_Check.xlsx'\n",
    "# Composite_Mat_Check.to_excel(output_file_with_data, index=False)"
   ]
  },
  {
   "cell_type": "code",
   "execution_count": 10,
   "id": "1791ece6-82dc-4343-a0d7-e4ff35fb1a60",
   "metadata": {},
   "outputs": [],
   "source": [
    "\n",
    "root = tk.Tk()\n",
    "file = fd.askopenfilename(parent=root, title='Choose a Composite_Mat_Check file')\n",
    "root.destroy()\n",
    "dff3 = pd.read_excel(file, keep_default_na=False)\n",
    "\n",
    "df6 = LCM_Type_new\n",
    "\n",
    "df6['Packaging Part Name']  = pd.to_numeric(df6['Packaging Part Name'],  errors='coerce').astype('Int64')\n",
    "dff3['Packaging Part Name']  = pd.to_numeric(dff3['Packaging Part Name'],  errors='coerce').astype('Int64')\n",
    "\n",
    "LCM_Sus_new=pd.merge(df6,dff3[['Packaging Part Name','Final Classification']], left_on='Packaging Part Name', right_on='Packaging Part Name', how='left')\n",
    "\n",
    "output_file_with_data = 'LCM_Sus_new.xlsx'\n",
    "LCM_Sus_new.to_excel(output_file_with_data, index=False)\n"
   ]
  },
  {
   "cell_type": "code",
   "execution_count": 11,
   "id": "dcbb1883-fcb1-47e9-821c-0491e83b8b4c",
   "metadata": {},
   "outputs": [],
   "source": [
    "LCM_Sus_new['New_Classification'] = LCM_Sus_new.apply(\n",
    "    lambda row: (\n",
    "        \"Pet\" if row['Final Classification'] == \"PET\" and row['Packaging Component Type'] in [\"BOTTLE\", \"CANISTER\"]\n",
    "        else \"Plastic\" if row['Final Classification'] == \"PET\"\n",
    "        else row['Final Classification']\n",
    "    ),\n",
    "    axis=1\n",
    ")"
   ]
  },
  {
   "cell_type": "code",
   "execution_count": 12,
   "id": "c8c33cbf-7939-435d-a953-7fd5808c4a7b",
   "metadata": {},
   "outputs": [],
   "source": [
    "output_file_with_data = 'LCM_Sus_new.xlsx'\n",
    "LCM_Sus_new.to_excel(output_file_with_data, index=False)"
   ]
  },
  {
   "cell_type": "markdown",
   "id": "b47c30f4-9863-48ca-b753-73d72b91847a",
   "metadata": {},
   "source": [
    "### PCM Master"
   ]
  },
  {
   "cell_type": "code",
   "execution_count": 13,
   "id": "bd33a685-bd8c-438c-9a98-3a857cdf2146",
   "metadata": {},
   "outputs": [],
   "source": [
    "root = tk.Tk()\n",
    "file = fd.askopenfilename(parent=root, title='Choose a PCM Master file')\n",
    "root.destroy()\n",
    "PCM_Master = pd.read_excel(file, keep_default_na=False)"
   ]
  },
  {
   "cell_type": "code",
   "execution_count": 14,
   "id": "f1275204-70a0-4aea-87e8-32c0e95b51a5",
   "metadata": {},
   "outputs": [
    {
     "data": {
      "text/plain": [
       "Index(['Packaging Component Type', 'Classification'], dtype='object')"
      ]
     },
     "execution_count": 14,
     "metadata": {},
     "output_type": "execute_result"
    }
   ],
   "source": [
    "PCM_Master.columns"
   ]
  },
  {
   "cell_type": "code",
   "execution_count": 15,
   "id": "7ebd7b35-b27f-4eb6-9c07-f96fcb636199",
   "metadata": {},
   "outputs": [
    {
     "name": "stderr",
     "output_type": "stream",
     "text": [
      "C:\\Users\\Kamlesh\\AppData\\Local\\Temp\\ipykernel_2336\\1085508957.py:5: FutureWarning: A value is trying to be set on a copy of a DataFrame or Series through chained assignment using an inplace method.\n",
      "The behavior will change in pandas 3.0. This inplace method will never work because the intermediate object on which we are setting values always behaves as a copy.\n",
      "\n",
      "For example, when doing 'df[col].method(value, inplace=True)', try using 'df.method({col: value}, inplace=True)' or df[col] = df[col].method(value) instead, to perform the operation inplace on the original object.\n",
      "\n",
      "\n",
      "  df4['Packaging Component Type'].replace('', 'need more data', inplace=True)\n",
      "C:\\Users\\Kamlesh\\AppData\\Local\\Temp\\ipykernel_2336\\1085508957.py:5: SettingWithCopyWarning: \n",
      "A value is trying to be set on a copy of a slice from a DataFrame\n",
      "\n",
      "See the caveats in the documentation: https://pandas.pydata.org/pandas-docs/stable/user_guide/indexing.html#returning-a-view-versus-a-copy\n",
      "  df4['Packaging Component Type'].replace('', 'need more data', inplace=True)\n"
     ]
    }
   ],
   "source": [
    "df4=df2\n",
    "\n",
    "df4 = df4[['Packaging Component Type', 'Total Weight shipped (kg)']]\n",
    "\n",
    "df4['Packaging Component Type'].replace('', 'need more data', inplace=True)\n",
    "\n",
    "# df_with_data = df3[df3['Packaging Component Type'] != 'need more data']\n",
    "# df_need_more_data = df3[df3['Packaging Component Type'] == 'need more data']\n",
    "\n",
    "Packaging_Component_Type_with_data = df4.groupby('Packaging Component Type')['Total Weight shipped (kg)'].sum().reset_index()\n",
    "# Exception_File = df_need_more_data.groupby('Packaging Component Type')['Total Weight shipped (kg)'].sum().reset_index()"
   ]
  },
  {
   "cell_type": "code",
   "execution_count": 16,
   "id": "3bbc22e7-5059-4429-8ef5-dfb457888cd9",
   "metadata": {},
   "outputs": [],
   "source": [
    "import unicodedata\n",
    "left  = Packaging_Component_Type_with_data.copy()\n",
    "right = PCM_Master[['Packaging Component Type', 'Classification']].copy()\n",
    "\n",
    "def clean_key(s: pd.Series) -> pd.Series:\n",
    "    s = s.astype(str)\n",
    "    s = s.str.replace('\\u00A0', ' ', regex=False)        # non-breaking space → normal space\n",
    "    s = s.map(lambda x: unicodedata.normalize('NFKC', x))# normalize unicode (full-width, accents, etc.)\n",
    "    s = s.str.strip()                                    # trim\n",
    "    s = s.str.replace(r'\\s+', ' ', regex=True)           # collapse multiple spaces\n",
    "    s = s.str.replace('[–—‐-]', '-', regex=True)         # unify hyphen variants\n",
    "    s = s.str.upper()                                    # case-insensitive compare\n",
    "    return s\n",
    "\n",
    "# Build normalized keys\n",
    "left['_key']  = clean_key(left['Packaging Component Type'])\n",
    "right['_key'] = clean_key(right['Packaging Component Type'])\n",
    "\n",
    "# If right has duplicates per key, keep first (avoid row explosions)\n",
    "right_dedup = right.sort_values('Classification').drop_duplicates('_key', keep='first')\n",
    "\n",
    "# Merge on the normalized key\n",
    "merged = left.merge(\n",
    "    right_dedup[['_key', 'Classification']],\n",
    "    on='_key',\n",
    "    how='left'\n",
    ")\n",
    "\n",
    "# # If you need the Excel logic \"if New_Classification=='NA' then 'NA' else the looked up\":\n",
    "# if 'New_Classification' in merged.columns:\n",
    "#     merged['Classification'] = np.where(\n",
    "#         merged['New_Classification'].astype(str).str.upper().eq('NA'),\n",
    "#         'NA',\n",
    "#         merged['Classification']\n",
    "#     )\n",
    "\n",
    "# Clean-up\n",
    "Packaging_Type = merged.drop(columns=['_key'])"
   ]
  },
  {
   "cell_type": "code",
   "execution_count": 17,
   "id": "9c65dbc9-f7df-43a2-b33c-73f3a7c8aa49",
   "metadata": {},
   "outputs": [],
   "source": [
    "\n",
    "output_file_with_data = 'Packaging_Type.xlsx'\n",
    "# output_file_need_more_data = 'Exception_File.xlsx'\n",
    "\n",
    "Packaging_Type.to_excel(output_file_with_data, index=False)"
   ]
  },
  {
   "cell_type": "code",
   "execution_count": 18,
   "id": "585ab0ad-40ab-4e1c-8a2d-a60f48435ec0",
   "metadata": {},
   "outputs": [],
   "source": [
    "root = tk.Tk()\n",
    "file = fd.askopenfilename(parent=root, title='Choose a PCM Type file')\n",
    "root.destroy()\n",
    "PCM_Type = pd.read_excel(file, keep_default_na=False)\n",
    "\n"
   ]
  },
  {
   "cell_type": "code",
   "execution_count": 19,
   "id": "e0ddb4da-c67f-4542-bbb2-19b8de54705d",
   "metadata": {},
   "outputs": [],
   "source": [
    "Packaging_Sus=pd.merge(LCM_Sus_new,PCM_Type[['Packaging Component Type','Classification']], left_on='Packaging Component Type', right_on='Packaging Component Type', how='left')\n"
   ]
  },
  {
   "cell_type": "code",
   "execution_count": 20,
   "id": "d8b54dd0-a0ca-4b6c-947f-7e2ff323793c",
   "metadata": {},
   "outputs": [],
   "source": [
    "Packaging_Sus['Classification'] = np.where(\n",
    "    Packaging_Sus['New_Classification'].astype(str).str.upper().eq('NA'),\n",
    "    'NA',\n",
    "    Packaging_Sus['Classification']\n",
    ")\n"
   ]
  },
  {
   "cell_type": "code",
   "execution_count": 21,
   "id": "518ab420-3cd1-4ad1-b8f4-092758bc18c7",
   "metadata": {},
   "outputs": [],
   "source": [
    "\n",
    "# Packaging_Sus=pd.merge(LCM_Sus_new,PCM_Type[['Packaging Component Type','Classification']], left_on='Packaging Component Type', right_on='Packaging Component Type', how='left')\n",
    "\n",
    "\n",
    "Packaging_Sus = Packaging_Sus.rename(columns={'Classification':'Final Material Classification'})\n",
    "\n"
   ]
  },
  {
   "cell_type": "code",
   "execution_count": 22,
   "id": "a7d87abb-1f2b-4736-a0a5-0a5c88f0d592",
   "metadata": {},
   "outputs": [],
   "source": [
    "Packaging_Sus['Final Material Classification_Copy'] = Packaging_Sus['Final Material Classification']\n",
    "Packaging_Sus['Final Material Classification'] = Packaging_Sus['Final Material Classification'].replace({'NA': 'Container'})"
   ]
  },
  {
   "cell_type": "code",
   "execution_count": 23,
   "id": "33b5b8c4-4597-47c8-8920-0eb0d33d587a",
   "metadata": {},
   "outputs": [],
   "source": [
    "output_file_with_data = 'Packaging_Sus.xlsx'\n",
    "Packaging_Sus.to_excel(output_file_with_data, index=False)"
   ]
  },
  {
   "cell_type": "markdown",
   "id": "45aef393-ebec-46eb-bc98-c6d6132a3671",
   "metadata": {},
   "source": [
    "### Source Master"
   ]
  },
  {
   "cell_type": "code",
   "execution_count": 133,
   "id": "1fcc6549-673d-4752-ac11-ddb81bfec6c8",
   "metadata": {},
   "outputs": [
    {
     "ename": "FileNotFoundError",
     "evalue": "[Errno 2] No such file or directory: ''",
     "output_type": "error",
     "traceback": [
      "\u001b[1;31m---------------------------------------------------------------------------\u001b[0m",
      "\u001b[1;31mFileNotFoundError\u001b[0m                         Traceback (most recent call last)",
      "Cell \u001b[1;32mIn[133], line 4\u001b[0m\n\u001b[0;32m      2\u001b[0m file \u001b[38;5;241m=\u001b[39m fd\u001b[38;5;241m.\u001b[39maskopenfilename(parent\u001b[38;5;241m=\u001b[39mroot, title\u001b[38;5;241m=\u001b[39m\u001b[38;5;124m'\u001b[39m\u001b[38;5;124mChoose a Source Master\u001b[39m\u001b[38;5;124m'\u001b[39m)\n\u001b[0;32m      3\u001b[0m root\u001b[38;5;241m.\u001b[39mdestroy()\n\u001b[1;32m----> 4\u001b[0m Source_Master \u001b[38;5;241m=\u001b[39m pd\u001b[38;5;241m.\u001b[39mread_excel(file, keep_default_na\u001b[38;5;241m=\u001b[39m\u001b[38;5;28;01mFalse\u001b[39;00m)\n",
      "File \u001b[1;32m~\\AppData\\Roaming\\Python\\Python313\\site-packages\\pandas\\io\\excel\\_base.py:495\u001b[0m, in \u001b[0;36mread_excel\u001b[1;34m(io, sheet_name, header, names, index_col, usecols, dtype, engine, converters, true_values, false_values, skiprows, nrows, na_values, keep_default_na, na_filter, verbose, parse_dates, date_parser, date_format, thousands, decimal, comment, skipfooter, storage_options, dtype_backend, engine_kwargs)\u001b[0m\n\u001b[0;32m    493\u001b[0m \u001b[38;5;28;01mif\u001b[39;00m \u001b[38;5;129;01mnot\u001b[39;00m \u001b[38;5;28misinstance\u001b[39m(io, ExcelFile):\n\u001b[0;32m    494\u001b[0m     should_close \u001b[38;5;241m=\u001b[39m \u001b[38;5;28;01mTrue\u001b[39;00m\n\u001b[1;32m--> 495\u001b[0m     io \u001b[38;5;241m=\u001b[39m ExcelFile(\n\u001b[0;32m    496\u001b[0m         io,\n\u001b[0;32m    497\u001b[0m         storage_options\u001b[38;5;241m=\u001b[39mstorage_options,\n\u001b[0;32m    498\u001b[0m         engine\u001b[38;5;241m=\u001b[39mengine,\n\u001b[0;32m    499\u001b[0m         engine_kwargs\u001b[38;5;241m=\u001b[39mengine_kwargs,\n\u001b[0;32m    500\u001b[0m     )\n\u001b[0;32m    501\u001b[0m \u001b[38;5;28;01melif\u001b[39;00m engine \u001b[38;5;129;01mand\u001b[39;00m engine \u001b[38;5;241m!=\u001b[39m io\u001b[38;5;241m.\u001b[39mengine:\n\u001b[0;32m    502\u001b[0m     \u001b[38;5;28;01mraise\u001b[39;00m \u001b[38;5;167;01mValueError\u001b[39;00m(\n\u001b[0;32m    503\u001b[0m         \u001b[38;5;124m\"\u001b[39m\u001b[38;5;124mEngine should not be specified when passing \u001b[39m\u001b[38;5;124m\"\u001b[39m\n\u001b[0;32m    504\u001b[0m         \u001b[38;5;124m\"\u001b[39m\u001b[38;5;124man ExcelFile - ExcelFile already has the engine set\u001b[39m\u001b[38;5;124m\"\u001b[39m\n\u001b[0;32m    505\u001b[0m     )\n",
      "File \u001b[1;32m~\\AppData\\Roaming\\Python\\Python313\\site-packages\\pandas\\io\\excel\\_base.py:1550\u001b[0m, in \u001b[0;36mExcelFile.__init__\u001b[1;34m(self, path_or_buffer, engine, storage_options, engine_kwargs)\u001b[0m\n\u001b[0;32m   1548\u001b[0m     ext \u001b[38;5;241m=\u001b[39m \u001b[38;5;124m\"\u001b[39m\u001b[38;5;124mxls\u001b[39m\u001b[38;5;124m\"\u001b[39m\n\u001b[0;32m   1549\u001b[0m \u001b[38;5;28;01melse\u001b[39;00m:\n\u001b[1;32m-> 1550\u001b[0m     ext \u001b[38;5;241m=\u001b[39m inspect_excel_format(\n\u001b[0;32m   1551\u001b[0m         content_or_path\u001b[38;5;241m=\u001b[39mpath_or_buffer, storage_options\u001b[38;5;241m=\u001b[39mstorage_options\n\u001b[0;32m   1552\u001b[0m     )\n\u001b[0;32m   1553\u001b[0m     \u001b[38;5;28;01mif\u001b[39;00m ext \u001b[38;5;129;01mis\u001b[39;00m \u001b[38;5;28;01mNone\u001b[39;00m:\n\u001b[0;32m   1554\u001b[0m         \u001b[38;5;28;01mraise\u001b[39;00m \u001b[38;5;167;01mValueError\u001b[39;00m(\n\u001b[0;32m   1555\u001b[0m             \u001b[38;5;124m\"\u001b[39m\u001b[38;5;124mExcel file format cannot be determined, you must specify \u001b[39m\u001b[38;5;124m\"\u001b[39m\n\u001b[0;32m   1556\u001b[0m             \u001b[38;5;124m\"\u001b[39m\u001b[38;5;124man engine manually.\u001b[39m\u001b[38;5;124m\"\u001b[39m\n\u001b[0;32m   1557\u001b[0m         )\n",
      "File \u001b[1;32m~\\AppData\\Roaming\\Python\\Python313\\site-packages\\pandas\\io\\excel\\_base.py:1402\u001b[0m, in \u001b[0;36minspect_excel_format\u001b[1;34m(content_or_path, storage_options)\u001b[0m\n\u001b[0;32m   1399\u001b[0m \u001b[38;5;28;01mif\u001b[39;00m \u001b[38;5;28misinstance\u001b[39m(content_or_path, \u001b[38;5;28mbytes\u001b[39m):\n\u001b[0;32m   1400\u001b[0m     content_or_path \u001b[38;5;241m=\u001b[39m BytesIO(content_or_path)\n\u001b[1;32m-> 1402\u001b[0m \u001b[38;5;28;01mwith\u001b[39;00m get_handle(\n\u001b[0;32m   1403\u001b[0m     content_or_path, \u001b[38;5;124m\"\u001b[39m\u001b[38;5;124mrb\u001b[39m\u001b[38;5;124m\"\u001b[39m, storage_options\u001b[38;5;241m=\u001b[39mstorage_options, is_text\u001b[38;5;241m=\u001b[39m\u001b[38;5;28;01mFalse\u001b[39;00m\n\u001b[0;32m   1404\u001b[0m ) \u001b[38;5;28;01mas\u001b[39;00m handle:\n\u001b[0;32m   1405\u001b[0m     stream \u001b[38;5;241m=\u001b[39m handle\u001b[38;5;241m.\u001b[39mhandle\n\u001b[0;32m   1406\u001b[0m     stream\u001b[38;5;241m.\u001b[39mseek(\u001b[38;5;241m0\u001b[39m)\n",
      "File \u001b[1;32m~\\AppData\\Roaming\\Python\\Python313\\site-packages\\pandas\\io\\common.py:882\u001b[0m, in \u001b[0;36mget_handle\u001b[1;34m(path_or_buf, mode, encoding, compression, memory_map, is_text, errors, storage_options)\u001b[0m\n\u001b[0;32m    873\u001b[0m         handle \u001b[38;5;241m=\u001b[39m \u001b[38;5;28mopen\u001b[39m(\n\u001b[0;32m    874\u001b[0m             handle,\n\u001b[0;32m    875\u001b[0m             ioargs\u001b[38;5;241m.\u001b[39mmode,\n\u001b[1;32m   (...)\u001b[0m\n\u001b[0;32m    878\u001b[0m             newline\u001b[38;5;241m=\u001b[39m\u001b[38;5;124m\"\u001b[39m\u001b[38;5;124m\"\u001b[39m,\n\u001b[0;32m    879\u001b[0m         )\n\u001b[0;32m    880\u001b[0m     \u001b[38;5;28;01melse\u001b[39;00m:\n\u001b[0;32m    881\u001b[0m         \u001b[38;5;66;03m# Binary mode\u001b[39;00m\n\u001b[1;32m--> 882\u001b[0m         handle \u001b[38;5;241m=\u001b[39m \u001b[38;5;28mopen\u001b[39m(handle, ioargs\u001b[38;5;241m.\u001b[39mmode)\n\u001b[0;32m    883\u001b[0m     handles\u001b[38;5;241m.\u001b[39mappend(handle)\n\u001b[0;32m    885\u001b[0m \u001b[38;5;66;03m# Convert BytesIO or file objects passed with an encoding\u001b[39;00m\n",
      "\u001b[1;31mFileNotFoundError\u001b[0m: [Errno 2] No such file or directory: ''"
     ]
    }
   ],
   "source": [
    "root = tk.Tk()\n",
    "file = fd.askopenfilename(parent=root, title='Choose a Source Master')\n",
    "root.destroy()\n",
    "Source_Master = pd.read_excel(file, keep_default_na=False)"
   ]
  },
  {
   "cell_type": "code",
   "execution_count": 25,
   "id": "f281762e-1cca-4ce6-95ff-35ad26f0f0fc",
   "metadata": {},
   "outputs": [],
   "source": [
    "right = (Source_Master[['Finished Product Part Name','Source']]\n",
    "         .dropna(subset=['Finished Product Part Name'])\n",
    "         .drop_duplicates(subset=['Finished Product Part Name'], keep='first'))\n",
    "\n",
    "# 2) Many-to-one merge (will error if still not many-to-one)\n",
    "final_file = Packaging_Sus.merge(\n",
    "    right,\n",
    "    on='Finished Product Part Name',\n",
    "    how='left',\n",
    "    validate='many_to_one'\n",
    ")"
   ]
  },
  {
   "cell_type": "code",
   "execution_count": 26,
   "id": "73c555d3-989e-40a7-a465-9468c51421bf",
   "metadata": {},
   "outputs": [],
   "source": [
    "final_file['Source_Copy'] = final_file['Source']\n",
    "final_file['Source'] = final_file['Source'].replace({'NA': 'JP-Sourced'})"
   ]
  },
  {
   "cell_type": "code",
   "execution_count": 27,
   "id": "103f87fb-513d-410c-bb92-97bcc5a70dc8",
   "metadata": {},
   "outputs": [],
   "source": [
    "output_file_with_data = 'final_file.xlsx'\n",
    "\n",
    "final_file.to_excel(output_file_with_data, index=False)"
   ]
  },
  {
   "cell_type": "markdown",
   "id": "505c128f-dd27-4320-b448-6b90daab23bb",
   "metadata": {},
   "source": [
    "### Mapping Sheet"
   ]
  },
  {
   "cell_type": "code",
   "execution_count": 28,
   "id": "ae134cdc-5b14-4cbb-9451-7795ac3c2239",
   "metadata": {},
   "outputs": [],
   "source": [
    "root = tk.Tk()\n",
    "file = fd.askopenfilename(parent=root, title='Choose a Mapping Sheet file')\n",
    "root.destroy()\n",
    "Mapping_sheet = pd.read_excel(file, skiprows=1,keep_default_na=False)"
   ]
  },
  {
   "cell_type": "code",
   "execution_count": 29,
   "id": "26e2bb25-3b9c-4bd8-99fb-33bcef30d9fd",
   "metadata": {},
   "outputs": [],
   "source": [
    "df8=final_file"
   ]
  },
  {
   "cell_type": "code",
   "execution_count": 30,
   "id": "91ce3443-4c85-483f-be5d-7fcf34ad7fe5",
   "metadata": {},
   "outputs": [],
   "source": [
    "# diagnose\n",
    "Mapping_sheet['Category'] = Mapping_sheet['Category'].astype('string').str.strip()\n",
    "df8['Category'] = df8['Category'].astype('string').str.strip()\n",
    "\n",
    "dupes = Mapping_sheet['Category'][Mapping_sheet.duplicated('Category', keep=False)]\n",
    "# print(dupes.value_counts().head(10))  # optional: see worst offenders\n",
    "\n",
    "# dedupe right side\n",
    "map_dedup = (Mapping_sheet[['Category','Business Classification']]\n",
    "             .dropna(subset=['Category'])\n",
    "             .drop_duplicates(subset=['Category'], keep='first'))\n",
    "\n",
    "reporting_category = df8.merge(\n",
    "    map_dedup,\n",
    "    on='Category',\n",
    "    how='left',\n",
    "    validate='many_to_one'     # will raise if still duplicated\n",
    ")\n"
   ]
  },
  {
   "cell_type": "code",
   "execution_count": 31,
   "id": "c05dae42-7a1e-47bf-8871-40fe1cb2144b",
   "metadata": {},
   "outputs": [],
   "source": [
    "reporting_category['Final Classification'] = reporting_category['Final Classification'].replace({'PET': 'Plastic'})"
   ]
  },
  {
   "cell_type": "code",
   "execution_count": 32,
   "id": "c9dfd17a-6f53-44a4-912c-e18f46e3290d",
   "metadata": {},
   "outputs": [],
   "source": [
    "output_file_with_data = 'reporting_category.xlsx'\n",
    "\n",
    "reporting_category.to_excel(output_file_with_data, index=False)"
   ]
  },
  {
   "cell_type": "markdown",
   "id": "265bcc5e-2c5c-47f3-b885-98dcdce515f4",
   "metadata": {},
   "source": [
    "### Final Base File"
   ]
  },
  {
   "cell_type": "code",
   "execution_count": 33,
   "id": "92144b8f-9222-41b0-90f5-2bae16c5680a",
   "metadata": {},
   "outputs": [],
   "source": [
    "root = tk.Tk()\n",
    "file = fd.askopenfilename(parent=root, title='Choose a Reporting unit cost file')\n",
    "root.destroy()\n",
    "unit_cost = pd.read_excel(file,keep_default_na=False)"
   ]
  },
  {
   "cell_type": "code",
   "execution_count": 34,
   "id": "5606c738-f332-4e71-83e3-d50f39395085",
   "metadata": {},
   "outputs": [
    {
     "data": {
      "text/html": [
       "<div>\n",
       "<style scoped>\n",
       "    .dataframe tbody tr th:only-of-type {\n",
       "        vertical-align: middle;\n",
       "    }\n",
       "\n",
       "    .dataframe tbody tr th {\n",
       "        vertical-align: top;\n",
       "    }\n",
       "\n",
       "    .dataframe thead th {\n",
       "        text-align: right;\n",
       "    }\n",
       "</style>\n",
       "<table border=\"1\" class=\"dataframe\">\n",
       "  <thead>\n",
       "    <tr style=\"text-align: right;\">\n",
       "      <th></th>\n",
       "      <th>Packing</th>\n",
       "      <th>Glass Bottles, Colorless</th>\n",
       "      <th>Glass Bottles, Amber</th>\n",
       "      <th>Glass Bottles, Other Colors</th>\n",
       "      <th>PET Bottle</th>\n",
       "      <th>Paper Packaging</th>\n",
       "      <th>Plastic Packaging</th>\n",
       "    </tr>\n",
       "  </thead>\n",
       "  <tbody>\n",
       "    <tr>\n",
       "      <th>0</th>\n",
       "      <td>Unit Cost,\\/kg</td>\n",
       "      <td>11</td>\n",
       "      <td>13.9</td>\n",
       "      <td>20.2</td>\n",
       "      <td>8.8</td>\n",
       "      <td>22.0</td>\n",
       "      <td>63.0</td>\n",
       "    </tr>\n",
       "  </tbody>\n",
       "</table>\n",
       "</div>"
      ],
      "text/plain": [
       "          Packing  Glass Bottles, Colorless  Glass Bottles, Amber  \\\n",
       "0  Unit Cost,\\/kg                        11                  13.9   \n",
       "\n",
       "   Glass Bottles, Other Colors  PET Bottle  Paper Packaging  Plastic Packaging  \n",
       "0                         20.2         8.8             22.0               63.0  "
      ]
     },
     "execution_count": 34,
     "metadata": {},
     "output_type": "execute_result"
    }
   ],
   "source": [
    "unit_cost"
   ]
  },
  {
   "cell_type": "code",
   "execution_count": 35,
   "id": "49de2163-b173-4333-9c95-d827cfa54eee",
   "metadata": {},
   "outputs": [],
   "source": [
    "root = tk.Tk()\n",
    "file = fd.askopenfilename(parent=root, title='Choose a Coefficient for Ordinary Calculation file')\n",
    "root.destroy()\n",
    "odi_cal = pd.read_excel(file,keep_default_na=False)"
   ]
  },
  {
   "cell_type": "code",
   "execution_count": 36,
   "id": "73230c0f-f4e4-4526-8777-68931ac55434",
   "metadata": {},
   "outputs": [],
   "source": [
    "reporting=reporting_category"
   ]
  },
  {
   "cell_type": "markdown",
   "id": "16602025-9e5c-4b3b-b90e-00073fa1a808",
   "metadata": {},
   "source": [
    "### Rate per KG"
   ]
  },
  {
   "cell_type": "code",
   "execution_count": 37,
   "id": "b11f4bd8-a4ed-45a9-bb20-8b9e283de94e",
   "metadata": {},
   "outputs": [],
   "source": [
    "def get_cost(final_classification):\n",
    "    if final_classification == 'Plastic':\n",
    "        return unit_cost['Plastic Packaging'].values[0]\n",
    "    elif final_classification == 'Paper':\n",
    "        return unit_cost['Paper Packaging'].values[0]\n",
    "    elif final_classification == 'Glass Colorless':\n",
    "        return unit_cost['Glass Bottles, Colorless'].values[0]\n",
    "    elif final_classification == 'Glass Other':\n",
    "        return unit_cost['Glass Bottles, Other Colors'].values[0]\n",
    "    elif final_classification == 'Glass Amber':\n",
    "        return unit_cost['Glass Bottles, Amber'].values[0]\n",
    "    else:\n",
    "        return 0  # Default value if needed\n",
    "\n",
    "# Apply the function to the 'Final Classification' column\n",
    "reporting['Rate per KG'] = reporting['Final Classification'].apply(get_cost)"
   ]
  },
  {
   "cell_type": "code",
   "execution_count": 38,
   "id": "1f14aaf1-cc3d-4f1e-ba76-142ae27b4216",
   "metadata": {},
   "outputs": [],
   "source": [
    "output_file_with_data = 'reporting.xlsx'\n",
    "\n",
    "reporting.to_excel(output_file_with_data, index=False)"
   ]
  },
  {
   "cell_type": "code",
   "execution_count": 39,
   "id": "59e5ca7c-e9a4-4986-8f6c-44b8fe3ea41e",
   "metadata": {},
   "outputs": [],
   "source": [
    "reporting = pd.merge(\n",
    "    reporting, \n",
    "    odi_cal[['Business Classification', 'Container/Wrapping']],  # Include other necessary columns\n",
    "    left_on='Business Classification', \n",
    "    right_on='Business Classification', \n",
    "    how='left'\n",
    ")\n",
    "\n",
    "# reporting['Container/Wrapping'] = reporting['Container/Wrapping'].fillna('Container')"
   ]
  },
  {
   "cell_type": "markdown",
   "id": "2a3be921-df84-46b7-9103-4ce0c865fe8c",
   "metadata": {},
   "source": [
    "### Conatiner"
   ]
  },
  {
   "cell_type": "code",
   "execution_count": 40,
   "id": "888e9557-dcf8-4721-81f6-ad0ed3889f10",
   "metadata": {},
   "outputs": [],
   "source": [
    "reporting_Con = reporting"
   ]
  },
  {
   "cell_type": "code",
   "execution_count": 45,
   "id": "219619ff-dbb3-4b53-9862-6a629927bfed",
   "metadata": {},
   "outputs": [
    {
     "data": {
      "text/plain": [
       "array(['Container', 'Wrapping', nan], dtype=object)"
      ]
     },
     "execution_count": 45,
     "metadata": {},
     "output_type": "execute_result"
    }
   ],
   "source": [
    "reporting_Con['Final Material Classification'].unique()"
   ]
  },
  {
   "cell_type": "code",
   "execution_count": 46,
   "id": "141d7a76-323e-4927-98e1-d9e8ed204e09",
   "metadata": {},
   "outputs": [],
   "source": [
    "reporting_Con= reporting_Con[reporting_Con['Final Material Classification'] == 'Container']"
   ]
  },
  {
   "cell_type": "code",
   "execution_count": 41,
   "id": "7ffb8de2-7705-45bf-8d2e-933823af6c9a",
   "metadata": {},
   "outputs": [
    {
     "data": {
      "text/plain": [
       "array(['Container', 'Wrapping', nan], dtype=object)"
      ]
     },
     "execution_count": 41,
     "metadata": {},
     "output_type": "execute_result"
    }
   ],
   "source": [
    "reporting_Con['Final Material Classification'].unique()"
   ]
  },
  {
   "cell_type": "code",
   "execution_count": 42,
   "id": "590addcc-31c6-452c-b783-7f813f42bfea",
   "metadata": {},
   "outputs": [],
   "source": [
    "reporting_Con = pd.DataFrame(reporting_Con)\n",
    "\n",
    "# Safely handle NaN or missing Source values\n",
    "reporting_Con['Concatenated Classification'] = reporting_Con.apply(\n",
    "    lambda row: (\n",
    "        f\"{row['Business Classification']}{row['Final Material Classification']}{row['Final Classification']}{row['Source']}\"\n",
    "        if pd.notna(row['Source']) and \"JP-Sourced\" in str(row['Source'])\n",
    "        else f\"{row['Business Classification']}{row['Final Material Classification']}{row['Final Classification']}{row['Source']}\"\n",
    "    ),\n",
    "    axis=1\n",
    ")"
   ]
  },
  {
   "cell_type": "code",
   "execution_count": 43,
   "id": "f4f905eb-67ae-4202-acee-6486bddaeb52",
   "metadata": {},
   "outputs": [],
   "source": [
    "# output_file_with_data = 'reporting_Con.xlsx'\n",
    "# reporting_Con.to_excel(output_file_with_data, index=False)"
   ]
  },
  {
   "cell_type": "code",
   "execution_count": 44,
   "id": "a677d299-f9e4-4782-9750-5360fa3cd764",
   "metadata": {},
   "outputs": [],
   "source": [
    "odi_cal = pd.DataFrame(odi_cal)"
   ]
  },
  {
   "cell_type": "code",
   "execution_count": 45,
   "id": "b7fb4887-e4f3-4454-ade6-604abed58444",
   "metadata": {},
   "outputs": [],
   "source": [
    "columns_to_unpivot = [\n",
    "'Glass Colorless Use', 'Glass Colorless Manufacture', 'Glass Amber Use',\n",
    "'Glass Amber Manufacture', 'Glass Other Use', 'Glass Other Manufacture',\n",
    "'PET Bottle Use', 'PET Bottle Manufacture', 'Paper Packaging Use',\n",
    "'Paper Packaging Manufacture', 'Plastic Packaging Use',\n",
    "'Plastic Packaging Manufacture'\n",
    "]"
   ]
  },
  {
   "cell_type": "code",
   "execution_count": 46,
   "id": "ec4664a6-9054-4841-b2e8-9c25b83d7120",
   "metadata": {},
   "outputs": [],
   "source": [
    "unpivoted_df = pd.melt(odi_cal, \n",
    "                   id_vars=['Business Classification', 'Container/Wrapping'], \n",
    "                   value_vars=columns_to_unpivot,\n",
    "                   var_name='Material Type', \n",
    "                   value_name='Quantity')"
   ]
  },
  {
   "cell_type": "code",
   "execution_count": 47,
   "id": "d98f9aab-312b-497f-bcd1-82e023586396",
   "metadata": {},
   "outputs": [],
   "source": [
    "unpivoted_df[['Material', 'Type']] = unpivoted_df['Material Type'].str.extract(r'(.+)\\s(Use|Manufacture)')\n",
    "\n",
    "unpivoted_df.drop(columns=['Material Type'], inplace=True)\n",
    "\n",
    "unpivoted_df['Type'] = unpivoted_df['Type'].replace({'Use': 'JP-Sourced', 'Manufacture': 'Imported'})"
   ]
  },
  {
   "cell_type": "code",
   "execution_count": 48,
   "id": "a815d8cc-6fc9-4af0-92d3-70af77623115",
   "metadata": {},
   "outputs": [],
   "source": [
    "unpivoted_df['Material'] = unpivoted_df['Material'].replace({'Plastic Packaging': 'Plastic','Paper Packaging':'Paper'})\n",
    "unpivoted_df['bsm'] = unpivoted_df.apply(lambda row: f\"{row['Business Classification']}{row['Container/Wrapping']}{row['Material']}\", axis=1)\n",
    "unpivoted_df['bst'] = unpivoted_df.apply(lambda row: f\"{row['Business Classification']}{row['Container/Wrapping']}{row['Material']}{row['Type']}\", axis=1)\n",
    "unpivoted_df['bst_1'] = unpivoted_df.apply(lambda row: f\"{row['Container/Wrapping']}{row['Material']}{row['Type']}\", axis=1)"
   ]
  },
  {
   "cell_type": "code",
   "execution_count": 49,
   "id": "842cfa2d-98dc-4830-9073-4a4f6a20bf27",
   "metadata": {},
   "outputs": [],
   "source": [
    "unpivoted_df['Quantity'] = pd.to_numeric(unpivoted_df['Quantity'], errors='coerce')\n",
    "unpivoted_df['Quantity'] = unpivoted_df['Quantity'].fillna(0)"
   ]
  },
  {
   "cell_type": "code",
   "execution_count": 50,
   "id": "738ea0f9-83d2-46b0-b3e8-4fc41578c63f",
   "metadata": {},
   "outputs": [],
   "source": [
    "output_file_with_data = 'unpivoted_df.xlsx'\n",
    "unpivoted_df.to_excel(output_file_with_data, index=False)"
   ]
  },
  {
   "cell_type": "code",
   "execution_count": 51,
   "id": "a96eb673-f238-4a9d-a812-1936a1578d6d",
   "metadata": {},
   "outputs": [
    {
     "data": {
      "text/plain": [
       "Index(['Business Classification', 'Container/Wrapping', 'Quantity', 'Material',\n",
       "       'Type', 'bsm', 'bst', 'bst_1'],\n",
       "      dtype='object')"
      ]
     },
     "execution_count": 51,
     "metadata": {},
     "output_type": "execute_result"
    }
   ],
   "source": [
    "unpivoted_df.columns"
   ]
  },
  {
   "cell_type": "code",
   "execution_count": 52,
   "id": "0d0c7784-6d63-40e6-ab27-af1f99ece7f6",
   "metadata": {},
   "outputs": [],
   "source": [
    "reporting_1 = reporting_Con"
   ]
  },
  {
   "cell_type": "code",
   "execution_count": 53,
   "id": "bb450e2f-60be-43e8-b09e-a181f3c5359d",
   "metadata": {},
   "outputs": [],
   "source": [
    "reporting_1 = pd.merge(reporting_1, unpivoted_df[['bst','Quantity','Material']],left_on='Concatenated Classification', right_on='bst', how='left')"
   ]
  },
  {
   "cell_type": "code",
   "execution_count": 54,
   "id": "23125d11-1739-492a-9b83-d8e29d7c63e1",
   "metadata": {},
   "outputs": [],
   "source": [
    "reporting_1.rename(columns={'Quantity': 'Coefficient (Normal)'}, inplace=True)"
   ]
  },
  {
   "cell_type": "code",
   "execution_count": 55,
   "id": "ffe51b41-74af-4cdf-b6cc-602816b6ffb4",
   "metadata": {},
   "outputs": [
    {
     "data": {
      "text/plain": [
       "Index(['Item GTIN (EAN UPC Bar Code) ', 'Finished Product Part Name',\n",
       "       'Finished Product Part Revision', 'Finished Product Part Title',\n",
       "       'Sector', 'Sub Sector', 'Category', 'Brand', 'Primary Organization',\n",
       "       'Secondary Organization', 'FPP Originator',\n",
       "       'Number of COP per CUP (Items per Case)', 'Marketing Size',\n",
       "       'Marketing Size UOM ', 'Statistical Unit Factor ', 'Base Unit Quantity',\n",
       "       'Base Unit of Measure UOM ', 'Stat Unit Quantity', 'Consumer Items',\n",
       "       'Region', 'MDO', 'Market of Sale', 'BOM Source', 'Reported Function',\n",
       "       'BOM Packing Level', 'Quantity per CUP (Case)',\n",
       "       'Quantity per CUP (Case) UOM', 'BOM Hierarchy (F/N)',\n",
       "       'Packaging Under Product', 'Direct Parent Part Type',\n",
       "       'Direct Parent Part Name', 'Direct Parent Part Revision',\n",
       "       'Direct Parent Part Title', 'Packaging Part Type',\n",
       "       'Packaging Part Name', 'Packaging Part Revision',\n",
       "       'Packaging Part Title', 'Packaging Material Type',\n",
       "       'Packaging Component Type', 'Conversion Factor',\n",
       "       'Conversion Factor UOM', 'Part Gross Weight', 'Part Weight Units',\n",
       "       'MCP Name', 'MCP Title', 'Legacy Environmental Class',\n",
       "       'Legacy Environmental Class Description ',\n",
       "       'PMP Weight per CUP (grams / case)', 'MCP Percentage',\n",
       "       'MCP Weight per COP (grams / item)',\n",
       "       'MCP Weight per CUP (grams / case)', 'Total Weight shipped (kg)',\n",
       "       'Post Consumer Recycled Content (%)',\n",
       "       'Post Industrial Recycled Content (%)', 'Artwork Reference POA ',\n",
       "       'Data Consistency Flag', 'Total Consumer Packaging Weight g ',\n",
       "       'Total Customer Packaging Weight g ',\n",
       "       'Theoretical Consumer Packaging Weight g ',\n",
       "       'Theoretical Customer Packaging Weight g ',\n",
       "       'Consistency Consumer Packaging ', 'Consistency Customer Packaging ',\n",
       "       'Has Shipped Weight', 'Consumer Packagining', 'B-to-B / Minor Brands',\n",
       "       'Initial MCP Classification', 'Final Classification',\n",
       "       'New_Classification', 'Final Material Classification',\n",
       "       'Final Material Classification_Copy', 'Source', 'Source_Copy',\n",
       "       'Business Classification', 'Rate per KG', 'Container/Wrapping',\n",
       "       'Concatenated Classification', 'bst', 'Coefficient (Normal)',\n",
       "       'Material'],\n",
       "      dtype='object')"
      ]
     },
     "execution_count": 55,
     "metadata": {},
     "output_type": "execute_result"
    }
   ],
   "source": [
    "reporting_1.columns"
   ]
  },
  {
   "cell_type": "code",
   "execution_count": 56,
   "id": "7c1f1f44-0c37-4ed5-a9c1-47e906b50784",
   "metadata": {},
   "outputs": [],
   "source": [
    "# output_file_with_data = 'reporting_1.xlsx'\n",
    "# reporting_1.to_excel(output_file_with_data, index=False)"
   ]
  },
  {
   "cell_type": "markdown",
   "id": "be55c659-8fd3-4d74-9d05-ca1bd95d9081",
   "metadata": {},
   "source": [
    "### Wrapper"
   ]
  },
  {
   "cell_type": "code",
   "execution_count": 57,
   "id": "9c4621f3-8929-433a-940e-d192ba6a7076",
   "metadata": {},
   "outputs": [],
   "source": [
    "reporting_Wrap = reporting"
   ]
  },
  {
   "cell_type": "code",
   "execution_count": 58,
   "id": "51f0f0ac-e57b-4cfc-baf7-a9726b6b6885",
   "metadata": {},
   "outputs": [
    {
     "data": {
      "text/plain": [
       "array(['Container', 'Wrapping', nan], dtype=object)"
      ]
     },
     "execution_count": 58,
     "metadata": {},
     "output_type": "execute_result"
    }
   ],
   "source": [
    "reporting_Wrap['Final Material Classification'].unique()"
   ]
  },
  {
   "cell_type": "code",
   "execution_count": 59,
   "id": "fbb3d568-f0cf-4ff9-b634-a731b90c8373",
   "metadata": {},
   "outputs": [],
   "source": [
    "reporting_Wrap= reporting_Wrap[reporting_Wrap['Final Material Classification'] == 'Wrapping']"
   ]
  },
  {
   "cell_type": "code",
   "execution_count": 60,
   "id": "93b5261e-e8d0-44b8-bd74-09b8af0d342a",
   "metadata": {},
   "outputs": [
    {
     "data": {
      "text/plain": [
       "array(['Wrapping'], dtype=object)"
      ]
     },
     "execution_count": 60,
     "metadata": {},
     "output_type": "execute_result"
    }
   ],
   "source": [
    "reporting_Wrap['Final Material Classification'].unique()"
   ]
  },
  {
   "cell_type": "code",
   "execution_count": 61,
   "id": "29bf2731-0e16-42be-9528-585a35967794",
   "metadata": {},
   "outputs": [],
   "source": [
    "reporting_Wrap = pd.DataFrame(reporting_Wrap)\n",
    "\n",
    "# Safely handle NaN or missing Source values\n",
    "reporting_Wrap['Concatenated Classification'] = reporting_Wrap.apply(\n",
    "    lambda row: (\n",
    "        f\"{row['Final Material Classification']}{row['New_Classification']}{row['Source']}\"\n",
    "        if pd.notna(row['Source']) and \"JP-Sourced\" in str(row['Source'])\n",
    "        else f\"{row['Final Material Classification']}{row['New_Classification']}{row['Source']}\"\n",
    "    ),\n",
    "    axis=1\n",
    ")"
   ]
  },
  {
   "cell_type": "code",
   "execution_count": 62,
   "id": "740ae25b-bb8b-4921-9386-e0d115c6761d",
   "metadata": {},
   "outputs": [],
   "source": [
    "reporting_Wrap = pd.merge(reporting_Wrap, unpivoted_df[['bst_1','Quantity','Material']],left_on='Concatenated Classification', right_on='bst_1', how='left')"
   ]
  },
  {
   "cell_type": "code",
   "execution_count": 63,
   "id": "9aeca137-763a-4b08-9df8-0934778d0b26",
   "metadata": {},
   "outputs": [],
   "source": [
    "material_avg = reporting_Wrap.loc[reporting_Wrap[\"Quantity\"] != 0].groupby(\"Material\")[\"Quantity\"].mean().to_dict()"
   ]
  },
  {
   "cell_type": "code",
   "execution_count": 64,
   "id": "6e45b9e8-2881-479f-83cc-13de0c175d4e",
   "metadata": {},
   "outputs": [
    {
     "data": {
      "text/plain": [
       "{'Plastic': 0.51923}"
      ]
     },
     "execution_count": 64,
     "metadata": {},
     "output_type": "execute_result"
    }
   ],
   "source": [
    "material_avg"
   ]
  },
  {
   "cell_type": "code",
   "execution_count": 65,
   "id": "b375e296-63d7-4645-8edb-aaf8220b8f2a",
   "metadata": {},
   "outputs": [],
   "source": [
    "reporting_Wrap[\"Quantity\"] = reporting_Wrap.apply(\n",
    "    lambda row: material_avg.get(row[\"Material\"], 0) if row[\"Quantity\"] == 0 else row[\"Quantity\"],\n",
    "    axis=1\n",
    ")"
   ]
  },
  {
   "cell_type": "code",
   "execution_count": 66,
   "id": "892cee31-58de-4467-a28d-e5ea949867dc",
   "metadata": {},
   "outputs": [],
   "source": [
    "reporting_Wrap.rename(columns={'Quantity': 'Coefficient (Normal)'}, inplace=True)"
   ]
  },
  {
   "cell_type": "code",
   "execution_count": 67,
   "id": "2b006943-c32a-4346-bec6-1a338aeb5cd0",
   "metadata": {},
   "outputs": [],
   "source": [
    "output_file_with_data = 'reporting_Wrap.xlsx'\n",
    "reporting_Wrap.to_excel(output_file_with_data, index=False)"
   ]
  },
  {
   "cell_type": "code",
   "execution_count": 68,
   "id": "bef48979-af1c-4acd-a404-fbe0dfbe2d4e",
   "metadata": {},
   "outputs": [],
   "source": [
    "reporting_new = pd.concat([reporting_1, reporting_Wrap], ignore_index=True)"
   ]
  },
  {
   "cell_type": "code",
   "execution_count": 69,
   "id": "f2d6df11-7b81-489b-8dc2-54e01aefbae6",
   "metadata": {},
   "outputs": [],
   "source": [
    "output_file_with_data = 'reporting_new.xlsx'\n",
    "reporting_new.to_excel(output_file_with_data, index=False)"
   ]
  },
  {
   "cell_type": "markdown",
   "id": "c1cf2f92-132f-45a7-8868-5e661f7f51fe",
   "metadata": {},
   "source": [
    "#### Container + Wrapper for JP"
   ]
  },
  {
   "cell_type": "code",
   "execution_count": 70,
   "id": "ca6c28a6-c811-4eb8-a140-0dbbe7771088",
   "metadata": {},
   "outputs": [],
   "source": [
    "reporting_JP= reporting_new"
   ]
  },
  {
   "cell_type": "code",
   "execution_count": 71,
   "id": "f280568c-214c-425f-afc4-71b8862d2ed6",
   "metadata": {},
   "outputs": [],
   "source": [
    "reporting_JP= reporting_JP[reporting_JP['Source'] == 'JP-Sourced']"
   ]
  },
  {
   "cell_type": "code",
   "execution_count": 72,
   "id": "12180655-283d-4c1a-b8cf-d6eb04354c9f",
   "metadata": {},
   "outputs": [],
   "source": [
    "output_file_with_data = 'reporting_JP.xlsx'\n",
    "reporting_JP.to_excel(output_file_with_data, index=False)"
   ]
  },
  {
   "cell_type": "markdown",
   "id": "51eaf512-f513-420b-9ff1-52674b4a2bf3",
   "metadata": {},
   "source": [
    "### Container for Importer"
   ]
  },
  {
   "cell_type": "code",
   "execution_count": 73,
   "id": "2dc705a1-5809-4b86-9a9c-13d944c19833",
   "metadata": {},
   "outputs": [],
   "source": [
    "reporting_Imp= reporting_new"
   ]
  },
  {
   "cell_type": "code",
   "execution_count": 74,
   "id": "e4e20607-4a6a-4211-95f2-b79c693e0fb5",
   "metadata": {},
   "outputs": [],
   "source": [
    "reporting_Imp= reporting_Imp[reporting_Imp['Source'] == 'Imported']"
   ]
  },
  {
   "cell_type": "code",
   "execution_count": 75,
   "id": "11d61bdc-43a0-40db-97b5-b3998592c410",
   "metadata": {},
   "outputs": [],
   "source": [
    "reporting_Imp = reporting_Imp.drop(columns=['Coefficient (Normal)', 'Material', 'bst_1'])"
   ]
  },
  {
   "cell_type": "code",
   "execution_count": 76,
   "id": "1fec8acf-ca5e-4860-89b7-6c1d85bea1b8",
   "metadata": {},
   "outputs": [],
   "source": [
    "reporting_Imp_Cons = reporting_Imp"
   ]
  },
  {
   "cell_type": "code",
   "execution_count": 77,
   "id": "ee35dee6-8132-47a7-a736-99de9bd39dce",
   "metadata": {},
   "outputs": [],
   "source": [
    "reporting_Imp_Cons= reporting_Imp_Cons[reporting_Imp_Cons['Final Material Classification'] == 'Container']"
   ]
  },
  {
   "cell_type": "code",
   "execution_count": 78,
   "id": "21be2c8d-ba00-492b-8077-21dd15cde695",
   "metadata": {},
   "outputs": [],
   "source": [
    "reporting_Imp_Cons = pd.merge(reporting_Imp_Cons, unpivoted_df[['bst','Quantity','Material']],left_on='Concatenated Classification', right_on='bst', how='left')"
   ]
  },
  {
   "cell_type": "code",
   "execution_count": 79,
   "id": "d24202b7-b12c-40ef-a45c-a622a63bf5b9",
   "metadata": {},
   "outputs": [],
   "source": [
    "reporting_Imp_Cons.rename(columns={'Quantity': 'Coefficient (Imported)','bst_x':'bst'}, inplace=True)"
   ]
  },
  {
   "cell_type": "code",
   "execution_count": 80,
   "id": "2e3e519d-a9a7-4e94-9f9a-0ecb4efdfa2e",
   "metadata": {},
   "outputs": [],
   "source": [
    "reporting_Imp_Cons['Coefficient (Imported)'] = reporting_Imp_Cons['Coefficient (Imported)'].fillna(0)"
   ]
  },
  {
   "cell_type": "code",
   "execution_count": 81,
   "id": "8f44391a-dc98-4c00-a4c3-5b85160aeda6",
   "metadata": {},
   "outputs": [
    {
     "data": {
      "text/plain": [
       "Coefficient (Imported)\n",
       "0.02614    528\n",
       "0.00045     22\n",
       "0.00000      3\n",
       "Name: count, dtype: int64"
      ]
     },
     "execution_count": 81,
     "metadata": {},
     "output_type": "execute_result"
    }
   ],
   "source": [
    "reporting_Imp_Cons['Coefficient (Imported)'].value_counts()"
   ]
  },
  {
   "cell_type": "code",
   "execution_count": 82,
   "id": "f0aed790-6a6f-44ae-806d-da600e230e68",
   "metadata": {},
   "outputs": [],
   "source": [
    "reporting_Imp_Cons_jp  =  reporting_Imp_Cons"
   ]
  },
  {
   "cell_type": "code",
   "execution_count": 83,
   "id": "0e4a89a4-02e9-4d35-8ead-1225d16e52fe",
   "metadata": {},
   "outputs": [],
   "source": [
    "reporting_Imp_Cons_jp[\"bst\"] = reporting_Imp_Cons_jp[\"bst\"].str.replace(\n",
    "    \"Imported\", \"JP-Sourced\", regex=False\n",
    ")"
   ]
  },
  {
   "cell_type": "code",
   "execution_count": 84,
   "id": "15d60c31-36fb-4290-8015-4ebfeb09abb4",
   "metadata": {},
   "outputs": [],
   "source": [
    "# output_file_with_data = 'reporting_Imp_Cons_jp.xlsx'\n",
    "# reporting_Imp_Cons_jp.to_excel(output_file_with_data, index=False)"
   ]
  },
  {
   "cell_type": "code",
   "execution_count": 85,
   "id": "b35fecbf-9b89-47fa-b632-02e34d3d2d30",
   "metadata": {},
   "outputs": [],
   "source": [
    "reporting_Imp_Cons_jp = pd.merge(reporting_Imp_Cons_jp, unpivoted_df[['bst','Quantity','Material']],left_on='bst', right_on='bst', how='left')"
   ]
  },
  {
   "cell_type": "code",
   "execution_count": 86,
   "id": "c4f576d4-2825-4ac5-904d-9a04e16d4496",
   "metadata": {},
   "outputs": [],
   "source": [
    "reporting_Imp_Cons_jp.rename(columns={'Quantity': 'Coefficient (Normal)','bst_x':'bst','Material_x':'Material'}, inplace=True)"
   ]
  },
  {
   "cell_type": "code",
   "execution_count": 87,
   "id": "d45222fd-ee9d-49d5-9c22-db7723a13e3b",
   "metadata": {},
   "outputs": [],
   "source": [
    "reporting_Imp_Cons_jp['Coefficient (Normal)'] = reporting_Imp_Cons_jp['Coefficient (Normal)'].fillna(0)"
   ]
  },
  {
   "cell_type": "code",
   "execution_count": 88,
   "id": "3de089cb-f30a-4c30-b7bc-6650ef295ce0",
   "metadata": {},
   "outputs": [
    {
     "data": {
      "text/plain": [
       "Coefficient (Normal)\n",
       "0.62631    528\n",
       "0.02896     22\n",
       "0.00000      3\n",
       "Name: count, dtype: int64"
      ]
     },
     "execution_count": 88,
     "metadata": {},
     "output_type": "execute_result"
    }
   ],
   "source": [
    "reporting_Imp_Cons_jp['Coefficient (Normal)'].value_counts()"
   ]
  },
  {
   "cell_type": "code",
   "execution_count": 89,
   "id": "b492ee34-c0f5-47f6-8efa-919bd4c3ed1b",
   "metadata": {},
   "outputs": [],
   "source": [
    "# output_file_with_data = 'reporting_Imp_Cons_jp.xlsx'\n",
    "# reporting_Imp_Cons_jp.to_excel(output_file_with_data, index=False)"
   ]
  },
  {
   "cell_type": "markdown",
   "id": "f70b6318-ce3c-49d5-8f87-2ccfd2e8f34d",
   "metadata": {},
   "source": [
    "### Container for Wrapper"
   ]
  },
  {
   "cell_type": "code",
   "execution_count": 90,
   "id": "a0d1447f-4d4b-444d-aa8a-7796390ead0b",
   "metadata": {},
   "outputs": [],
   "source": [
    "reporting_Imp_wrap= reporting_new"
   ]
  },
  {
   "cell_type": "code",
   "execution_count": 91,
   "id": "34c87415-b599-4805-913d-b22409be797f",
   "metadata": {},
   "outputs": [],
   "source": [
    "reporting_Imp_wrap= reporting_Imp_wrap[reporting_Imp_wrap['Source'] == 'Imported']"
   ]
  },
  {
   "cell_type": "code",
   "execution_count": 92,
   "id": "2587ace2-242d-49a0-a0dd-7d6f4eba36ac",
   "metadata": {},
   "outputs": [],
   "source": [
    "reporting_Imp_wrap = reporting_Imp_wrap.drop(columns=['Coefficient (Normal)', 'Material'])"
   ]
  },
  {
   "cell_type": "code",
   "execution_count": 93,
   "id": "4b8e0069-0fcf-4e9f-aac4-8f12ae15d135",
   "metadata": {},
   "outputs": [],
   "source": [
    "reporting_Imp_wrap= reporting_Imp_wrap[reporting_Imp_wrap['Final Material Classification'] == 'Wrapping']"
   ]
  },
  {
   "cell_type": "code",
   "execution_count": 94,
   "id": "fb84f720-647c-4652-b43e-33353f1f1083",
   "metadata": {},
   "outputs": [],
   "source": [
    "reporting_Imp_wrap = pd.merge(reporting_Imp_wrap, unpivoted_df[['bst_1','Quantity','Material']],left_on='bst_1', right_on='bst_1', how='left')"
   ]
  },
  {
   "cell_type": "code",
   "execution_count": 95,
   "id": "c50221b7-d1e5-461d-b2fd-ee0376253b4d",
   "metadata": {},
   "outputs": [],
   "source": [
    "reporting_Imp_wrap.rename(columns={'Quantity': 'Coefficient (Imported)'}, inplace=True)"
   ]
  },
  {
   "cell_type": "code",
   "execution_count": 96,
   "id": "4f1bdf46-811e-47e5-9d8d-89dfd63eaeb5",
   "metadata": {},
   "outputs": [],
   "source": [
    "reporting_Imp_wrap_jp =reporting_Imp_wrap"
   ]
  },
  {
   "cell_type": "code",
   "execution_count": 97,
   "id": "9193a7fc-3faa-487a-aad3-e7c6cbe6a050",
   "metadata": {},
   "outputs": [],
   "source": [
    "reporting_Imp_wrap_jp['bst_copy'] = reporting_Imp_wrap_jp['bst_1']\n",
    "# final_file['Source'] = final_file['Source'].replace({'NA': 'JP-Sourced'})"
   ]
  },
  {
   "cell_type": "code",
   "execution_count": 98,
   "id": "e43aec34-1d12-446f-8794-e3c4b43185cf",
   "metadata": {},
   "outputs": [
    {
     "data": {
      "text/plain": [
       "array([nan, 'WrappingPlasticImported'], dtype=object)"
      ]
     },
     "execution_count": 98,
     "metadata": {},
     "output_type": "execute_result"
    }
   ],
   "source": [
    "reporting_Imp_wrap_jp['bst_1'].unique()"
   ]
  },
  {
   "cell_type": "code",
   "execution_count": 99,
   "id": "0bae7dee-1dcd-4801-a153-a0390d7193f8",
   "metadata": {},
   "outputs": [],
   "source": [
    "reporting_Imp_wrap_jp[\"bst_1\"] = reporting_Imp_wrap_jp[\"bst_1\"].str.replace(\n",
    "    \"Imported\", \"JP-Sourced\", regex=False\n",
    ")"
   ]
  },
  {
   "cell_type": "code",
   "execution_count": 100,
   "id": "e60e3697-1537-4125-a31d-3d06d19765b9",
   "metadata": {},
   "outputs": [],
   "source": [
    "output_file_with_data = 'reporting_Imp_wrap_jp.xlsx'\n",
    "reporting_Imp_wrap_jp.to_excel(output_file_with_data, index=False)"
   ]
  },
  {
   "cell_type": "code",
   "execution_count": 101,
   "id": "d1d6cb03-d397-415b-81a0-f6e364cf57e9",
   "metadata": {},
   "outputs": [],
   "source": [
    "reporting_Imp_wrap_jp = pd.merge(reporting_Imp_wrap_jp, unpivoted_df[['bst_1','Quantity','Material']],left_on='bst_1', right_on='bst_1', how='left')"
   ]
  },
  {
   "cell_type": "code",
   "execution_count": 102,
   "id": "c7a14d8b-3645-4370-b0b1-2eccc735b2ac",
   "metadata": {},
   "outputs": [],
   "source": [
    "reporting_Imp_wrap_jp.rename(columns={'Quantity': 'Coefficient (Normal)','bst_x':'bst','Material_x':'Material'}, inplace=True)"
   ]
  },
  {
   "cell_type": "code",
   "execution_count": 103,
   "id": "e6cbb094-bf7e-452f-9735-fdd99e97b27b",
   "metadata": {},
   "outputs": [],
   "source": [
    "reporting_Imp_wrap_jp['Coefficient (Normal)'] = reporting_Imp_wrap_jp['Coefficient (Normal)'].fillna(0)"
   ]
  },
  {
   "cell_type": "code",
   "execution_count": 104,
   "id": "085845ea-6134-42bb-b001-61c183832ed9",
   "metadata": {},
   "outputs": [
    {
     "data": {
      "text/plain": [
       "Coefficient (Normal)\n",
       "0.00000    50\n",
       "0.51923    50\n",
       "Name: count, dtype: int64"
      ]
     },
     "execution_count": 104,
     "metadata": {},
     "output_type": "execute_result"
    }
   ],
   "source": [
    "reporting_Imp_wrap_jp['Coefficient (Normal)'].value_counts()"
   ]
  },
  {
   "cell_type": "code",
   "execution_count": 105,
   "id": "8416533b-e76a-4f9c-bf21-2cbd418037f2",
   "metadata": {},
   "outputs": [],
   "source": [
    "new_reporting = pd.concat([reporting_Imp_Cons_jp, reporting_Imp_wrap_jp], ignore_index=True)"
   ]
  },
  {
   "cell_type": "code",
   "execution_count": 106,
   "id": "e3247789-942c-4e30-b902-7a388b26d588",
   "metadata": {},
   "outputs": [],
   "source": [
    "output_file_with_data = 'new_reporting.xlsx'\n",
    "new_reporting.to_excel(output_file_with_data, index=False)"
   ]
  },
  {
   "cell_type": "code",
   "execution_count": 107,
   "id": "1b61a2fe-a4e7-4091-8775-278ef62c3cdb",
   "metadata": {},
   "outputs": [],
   "source": [
    "upload_base_file = pd.concat([reporting_JP, new_reporting], ignore_index=True)"
   ]
  },
  {
   "cell_type": "code",
   "execution_count": 108,
   "id": "5e139240-3c31-4955-83bf-1796fa8fa508",
   "metadata": {},
   "outputs": [],
   "source": [
    "upload_base_file.rename(columns={'Total Weight shipped (kg)':'CY Weight'}, inplace=True)"
   ]
  },
  {
   "cell_type": "code",
   "execution_count": 109,
   "id": "d6daa1ec-0171-4d4d-b6a8-a8f6f6138950",
   "metadata": {},
   "outputs": [],
   "source": [
    "upload_base_file['Coefficient (Imported)'] = upload_base_file['Coefficient (Imported)'].fillna(0)\n",
    "upload_base_file['Coefficient (Normal)'] = upload_base_file['Coefficient (Normal)'].fillna(0)\n"
   ]
  },
  {
   "cell_type": "code",
   "execution_count": 110,
   "id": "715a2336-a67a-4ca0-bbed-c374dd36a7b9",
   "metadata": {},
   "outputs": [],
   "source": [
    "upload_base_file['Recycling Fees (Normal)'] = upload_base_file['CY Weight'] * upload_base_file['Rate per KG'] * upload_base_file['Coefficient (Normal)']\n",
    "\n",
    "upload_base_file['Recycling Fees (Imported)'] = upload_base_file['CY Weight'] * upload_base_file['Rate per KG'] * upload_base_file['Coefficient (Imported)']\n"
   ]
  },
  {
   "cell_type": "code",
   "execution_count": 111,
   "id": "cc68b0c2-e48b-4801-81e0-a5f313a60c54",
   "metadata": {},
   "outputs": [],
   "source": [
    "upload_base_file['Recycling Fees (Total)'] = upload_base_file['Recycling Fees (Normal)'] + upload_base_file['Recycling Fees (Imported)']"
   ]
  },
  {
   "cell_type": "code",
   "execution_count": 112,
   "id": "25d3ccd9-5862-4b44-9f6c-e13bf64813da",
   "metadata": {},
   "outputs": [],
   "source": [
    "upload_base_file = upload_base_file.drop(columns=['bst_copy', 'Material_y','bst_1', 'bst_y','bst'])"
   ]
  },
  {
   "cell_type": "code",
   "execution_count": 113,
   "id": "1be09941-1078-45d6-884d-f0ddc7a80a7d",
   "metadata": {},
   "outputs": [
    {
     "data": {
      "text/plain": [
       "Index(['Item GTIN (EAN UPC Bar Code) ', 'Finished Product Part Name',\n",
       "       'Finished Product Part Revision', 'Finished Product Part Title',\n",
       "       'Sector', 'Sub Sector', 'Category', 'Brand', 'Primary Organization',\n",
       "       'Secondary Organization', 'FPP Originator',\n",
       "       'Number of COP per CUP (Items per Case)', 'Marketing Size',\n",
       "       'Marketing Size UOM ', 'Statistical Unit Factor ', 'Base Unit Quantity',\n",
       "       'Base Unit of Measure UOM ', 'Stat Unit Quantity', 'Consumer Items',\n",
       "       'Region', 'MDO', 'Market of Sale', 'BOM Source', 'Reported Function',\n",
       "       'BOM Packing Level', 'Quantity per CUP (Case)',\n",
       "       'Quantity per CUP (Case) UOM', 'BOM Hierarchy (F/N)',\n",
       "       'Packaging Under Product', 'Direct Parent Part Type',\n",
       "       'Direct Parent Part Name', 'Direct Parent Part Revision',\n",
       "       'Direct Parent Part Title', 'Packaging Part Type',\n",
       "       'Packaging Part Name', 'Packaging Part Revision',\n",
       "       'Packaging Part Title', 'Packaging Material Type',\n",
       "       'Packaging Component Type', 'Conversion Factor',\n",
       "       'Conversion Factor UOM', 'Part Gross Weight', 'Part Weight Units',\n",
       "       'MCP Name', 'MCP Title', 'Legacy Environmental Class',\n",
       "       'Legacy Environmental Class Description ',\n",
       "       'PMP Weight per CUP (grams / case)', 'MCP Percentage',\n",
       "       'MCP Weight per COP (grams / item)',\n",
       "       'MCP Weight per CUP (grams / case)', 'CY Weight',\n",
       "       'Post Consumer Recycled Content (%)',\n",
       "       'Post Industrial Recycled Content (%)', 'Artwork Reference POA ',\n",
       "       'Data Consistency Flag', 'Total Consumer Packaging Weight g ',\n",
       "       'Total Customer Packaging Weight g ',\n",
       "       'Theoretical Consumer Packaging Weight g ',\n",
       "       'Theoretical Customer Packaging Weight g ',\n",
       "       'Consistency Consumer Packaging ', 'Consistency Customer Packaging ',\n",
       "       'Has Shipped Weight', 'Consumer Packagining', 'B-to-B / Minor Brands',\n",
       "       'Initial MCP Classification', 'Final Classification',\n",
       "       'New_Classification', 'Final Material Classification',\n",
       "       'Final Material Classification_Copy', 'Source', 'Source_Copy',\n",
       "       'Business Classification', 'Rate per KG', 'Container/Wrapping',\n",
       "       'Concatenated Classification', 'Coefficient (Normal)', 'Material',\n",
       "       'Coefficient (Imported)', 'Recycling Fees (Normal)',\n",
       "       'Recycling Fees (Imported)', 'Recycling Fees (Total)'],\n",
       "      dtype='object')"
      ]
     },
     "execution_count": 113,
     "metadata": {},
     "output_type": "execute_result"
    }
   ],
   "source": [
    "upload_base_file.columns"
   ]
  },
  {
   "cell_type": "code",
   "execution_count": 114,
   "id": "1f5b54d6-6caa-4035-bc36-21b582fc20e5",
   "metadata": {},
   "outputs": [],
   "source": [
    "output_file_with_data = 'upload_base_file.xlsx'\n",
    "upload_base_file.to_excel(output_file_with_data, index=False)"
   ]
  },
  {
   "cell_type": "code",
   "execution_count": null,
   "id": "74fdd384-3692-44cf-9768-0bf6561e63bf",
   "metadata": {},
   "outputs": [],
   "source": []
  },
  {
   "cell_type": "code",
   "execution_count": null,
   "id": "112a0516-5521-4ea5-908f-c95acb82f42a",
   "metadata": {},
   "outputs": [],
   "source": []
  },
  {
   "cell_type": "code",
   "execution_count": null,
   "id": "d86738b5-2f96-4f39-8ea6-a85a70fc272b",
   "metadata": {},
   "outputs": [],
   "source": []
  },
  {
   "cell_type": "code",
   "execution_count": null,
   "id": "7f42d4f1-d363-4c97-b88c-ac4b67bddc12",
   "metadata": {},
   "outputs": [],
   "source": []
  },
  {
   "cell_type": "code",
   "execution_count": 115,
   "id": "4b106465-27ac-445b-9611-7fbd7aed3128",
   "metadata": {},
   "outputs": [],
   "source": [
    "# material_avg = reporting_new.loc[reporting_new[\"Coefficient (Imported)\"] != 0].groupby(\"Material\")[\"Coefficient (Imported)\"].mean().to_dict()"
   ]
  },
  {
   "cell_type": "markdown",
   "id": "b093babf-1d9c-4da6-97c7-8677d14209fd",
   "metadata": {},
   "source": [
    "### Summery"
   ]
  },
  {
   "cell_type": "code",
   "execution_count": 116,
   "id": "60f8b71c-7e5d-4d71-9171-28f0552d9070",
   "metadata": {},
   "outputs": [],
   "source": [
    "Summery = upload_base_file"
   ]
  },
  {
   "cell_type": "code",
   "execution_count": 117,
   "id": "26121a2e-80c2-4932-a1b2-c891789a797d",
   "metadata": {},
   "outputs": [],
   "source": [
    "Summery = Summery[['Sub Sector','Category', 'CY Weight', 'Recycling Fees (Normal)','Final Classification','Final Material Classification','Final Material Classification_Copy','Source','Source_Copy', 'Business Classification']]"
   ]
  },
  {
   "cell_type": "code",
   "execution_count": 118,
   "id": "dd1fda3a-b1de-4aa6-b313-858297179174",
   "metadata": {},
   "outputs": [],
   "source": [
    "summary_1 = Summery.groupby(['Sub Sector','Category', 'Final Classification','Final Material Classification','Source','Business Classification','Final Material Classification_Copy','Source_Copy'])['Recycling Fees (Normal)'].sum().reset_index()"
   ]
  },
  {
   "cell_type": "code",
   "execution_count": 119,
   "id": "ffdbbcae-1cc0-40ed-a563-7142d648296d",
   "metadata": {},
   "outputs": [],
   "source": [
    "summary_1['Total Weight/Import'] = 'Total'"
   ]
  },
  {
   "cell_type": "code",
   "execution_count": 120,
   "id": "68f25484-bbfe-44f4-97d3-ad89cf0b25be",
   "metadata": {},
   "outputs": [],
   "source": [
    "summary_1.rename(columns={'Recycling Fees (Normal)':'CY Cost'}, inplace=True)"
   ]
  },
  {
   "cell_type": "code",
   "execution_count": 121,
   "id": "9e0f0bfe-8f65-4619-b1dc-0d86e0fa2db6",
   "metadata": {},
   "outputs": [
    {
     "data": {
      "text/html": [
       "<div>\n",
       "<style scoped>\n",
       "    .dataframe tbody tr th:only-of-type {\n",
       "        vertical-align: middle;\n",
       "    }\n",
       "\n",
       "    .dataframe tbody tr th {\n",
       "        vertical-align: top;\n",
       "    }\n",
       "\n",
       "    .dataframe thead th {\n",
       "        text-align: right;\n",
       "    }\n",
       "</style>\n",
       "<table border=\"1\" class=\"dataframe\">\n",
       "  <thead>\n",
       "    <tr style=\"text-align: right;\">\n",
       "      <th></th>\n",
       "      <th>Sub Sector</th>\n",
       "      <th>Category</th>\n",
       "      <th>Final Classification</th>\n",
       "      <th>Final Material Classification</th>\n",
       "      <th>Source</th>\n",
       "      <th>Business Classification</th>\n",
       "      <th>Final Material Classification_Copy</th>\n",
       "      <th>Source_Copy</th>\n",
       "      <th>CY Cost</th>\n",
       "      <th>Total Weight/Import</th>\n",
       "    </tr>\n",
       "  </thead>\n",
       "  <tbody>\n",
       "    <tr>\n",
       "      <th>0</th>\n",
       "      <td>Hair Care</td>\n",
       "      <td>Hair Care</td>\n",
       "      <td>Glass Other</td>\n",
       "      <td>Container</td>\n",
       "      <td>JP-Sourced</td>\n",
       "      <td>Cosmetics, Toothpaste, Other Toileries Manufac...</td>\n",
       "      <td>Container</td>\n",
       "      <td>JP-Sourced</td>\n",
       "      <td>5.755880e+04</td>\n",
       "      <td>Total</td>\n",
       "    </tr>\n",
       "    <tr>\n",
       "      <th>1</th>\n",
       "      <td>Hair Care</td>\n",
       "      <td>Hair Care</td>\n",
       "      <td>Glass Other</td>\n",
       "      <td>Container</td>\n",
       "      <td>JP-Sourced</td>\n",
       "      <td>Cosmetics, Toothpaste, Other Toileries Manufac...</td>\n",
       "      <td>Container</td>\n",
       "      <td>NA</td>\n",
       "      <td>6.676196e+04</td>\n",
       "      <td>Total</td>\n",
       "    </tr>\n",
       "    <tr>\n",
       "      <th>2</th>\n",
       "      <td>Hair Care</td>\n",
       "      <td>Hair Care</td>\n",
       "      <td>NA</td>\n",
       "      <td>Container</td>\n",
       "      <td>Imported</td>\n",
       "      <td>Cosmetics, Toothpaste, Other Toileries Manufac...</td>\n",
       "      <td>NA</td>\n",
       "      <td>Imported</td>\n",
       "      <td>0.000000e+00</td>\n",
       "      <td>Total</td>\n",
       "    </tr>\n",
       "    <tr>\n",
       "      <th>3</th>\n",
       "      <td>Hair Care</td>\n",
       "      <td>Hair Care</td>\n",
       "      <td>NA</td>\n",
       "      <td>Container</td>\n",
       "      <td>JP-Sourced</td>\n",
       "      <td>Cosmetics, Toothpaste, Other Toileries Manufac...</td>\n",
       "      <td>NA</td>\n",
       "      <td>NA</td>\n",
       "      <td>0.000000e+00</td>\n",
       "      <td>Total</td>\n",
       "    </tr>\n",
       "    <tr>\n",
       "      <th>4</th>\n",
       "      <td>Hair Care</td>\n",
       "      <td>Hair Care</td>\n",
       "      <td>Paper</td>\n",
       "      <td>Container</td>\n",
       "      <td>Imported</td>\n",
       "      <td>Cosmetics, Toothpaste, Other Toileries Manufac...</td>\n",
       "      <td>Container</td>\n",
       "      <td>Imported</td>\n",
       "      <td>2.441973e+04</td>\n",
       "      <td>Total</td>\n",
       "    </tr>\n",
       "    <tr>\n",
       "      <th>5</th>\n",
       "      <td>Hair Care</td>\n",
       "      <td>Hair Care</td>\n",
       "      <td>Paper</td>\n",
       "      <td>Container</td>\n",
       "      <td>JP-Sourced</td>\n",
       "      <td>Cosmetics, Toothpaste, Other Toileries Manufac...</td>\n",
       "      <td>Container</td>\n",
       "      <td>JP-Sourced</td>\n",
       "      <td>1.498056e+03</td>\n",
       "      <td>Total</td>\n",
       "    </tr>\n",
       "    <tr>\n",
       "      <th>6</th>\n",
       "      <td>Hair Care</td>\n",
       "      <td>Hair Care</td>\n",
       "      <td>Paper</td>\n",
       "      <td>Container</td>\n",
       "      <td>JP-Sourced</td>\n",
       "      <td>Cosmetics, Toothpaste, Other Toileries Manufac...</td>\n",
       "      <td>Container</td>\n",
       "      <td>NA</td>\n",
       "      <td>1.366027e+05</td>\n",
       "      <td>Total</td>\n",
       "    </tr>\n",
       "    <tr>\n",
       "      <th>7</th>\n",
       "      <td>Hair Care</td>\n",
       "      <td>Hair Care</td>\n",
       "      <td>Paper</td>\n",
       "      <td>Container</td>\n",
       "      <td>JP-Sourced</td>\n",
       "      <td>Cosmetics, Toothpaste, Other Toileries Manufac...</td>\n",
       "      <td>NA</td>\n",
       "      <td>NA</td>\n",
       "      <td>9.108982e+00</td>\n",
       "      <td>Total</td>\n",
       "    </tr>\n",
       "    <tr>\n",
       "      <th>8</th>\n",
       "      <td>Hair Care</td>\n",
       "      <td>Hair Care</td>\n",
       "      <td>Plastic</td>\n",
       "      <td>Container</td>\n",
       "      <td>Imported</td>\n",
       "      <td>Cosmetics, Toothpaste, Other Toileries Manufac...</td>\n",
       "      <td>Container</td>\n",
       "      <td>Imported</td>\n",
       "      <td>1.180920e+07</td>\n",
       "      <td>Total</td>\n",
       "    </tr>\n",
       "    <tr>\n",
       "      <th>9</th>\n",
       "      <td>Hair Care</td>\n",
       "      <td>Hair Care</td>\n",
       "      <td>Plastic</td>\n",
       "      <td>Container</td>\n",
       "      <td>Imported</td>\n",
       "      <td>Cosmetics, Toothpaste, Other Toileries Manufac...</td>\n",
       "      <td>NA</td>\n",
       "      <td>Imported</td>\n",
       "      <td>5.163278e+04</td>\n",
       "      <td>Total</td>\n",
       "    </tr>\n",
       "    <tr>\n",
       "      <th>10</th>\n",
       "      <td>Hair Care</td>\n",
       "      <td>Hair Care</td>\n",
       "      <td>Plastic</td>\n",
       "      <td>Container</td>\n",
       "      <td>JP-Sourced</td>\n",
       "      <td>Cosmetics, Toothpaste, Other Toileries Manufac...</td>\n",
       "      <td>Container</td>\n",
       "      <td>JP-Sourced</td>\n",
       "      <td>2.348996e+05</td>\n",
       "      <td>Total</td>\n",
       "    </tr>\n",
       "    <tr>\n",
       "      <th>11</th>\n",
       "      <td>Hair Care</td>\n",
       "      <td>Hair Care</td>\n",
       "      <td>Plastic</td>\n",
       "      <td>Container</td>\n",
       "      <td>JP-Sourced</td>\n",
       "      <td>Cosmetics, Toothpaste, Other Toileries Manufac...</td>\n",
       "      <td>Container</td>\n",
       "      <td>NA</td>\n",
       "      <td>1.928945e+08</td>\n",
       "      <td>Total</td>\n",
       "    </tr>\n",
       "    <tr>\n",
       "      <th>12</th>\n",
       "      <td>Hair Care</td>\n",
       "      <td>Hair Care</td>\n",
       "      <td>Plastic</td>\n",
       "      <td>Container</td>\n",
       "      <td>JP-Sourced</td>\n",
       "      <td>Cosmetics, Toothpaste, Other Toileries Manufac...</td>\n",
       "      <td>NA</td>\n",
       "      <td>JP-Sourced</td>\n",
       "      <td>1.893961e+00</td>\n",
       "      <td>Total</td>\n",
       "    </tr>\n",
       "    <tr>\n",
       "      <th>13</th>\n",
       "      <td>Hair Care</td>\n",
       "      <td>Hair Care</td>\n",
       "      <td>Plastic</td>\n",
       "      <td>Container</td>\n",
       "      <td>JP-Sourced</td>\n",
       "      <td>Cosmetics, Toothpaste, Other Toileries Manufac...</td>\n",
       "      <td>NA</td>\n",
       "      <td>NA</td>\n",
       "      <td>6.845673e+05</td>\n",
       "      <td>Total</td>\n",
       "    </tr>\n",
       "    <tr>\n",
       "      <th>14</th>\n",
       "      <td>Hair Care</td>\n",
       "      <td>Hair Care</td>\n",
       "      <td>Plastic</td>\n",
       "      <td>Wrapping</td>\n",
       "      <td>Imported</td>\n",
       "      <td>Cosmetics, Toothpaste, Other Toileries Manufac...</td>\n",
       "      <td>Wrapping</td>\n",
       "      <td>Imported</td>\n",
       "      <td>1.840018e+05</td>\n",
       "      <td>Total</td>\n",
       "    </tr>\n",
       "    <tr>\n",
       "      <th>15</th>\n",
       "      <td>Hair Care</td>\n",
       "      <td>Hair Care</td>\n",
       "      <td>Plastic</td>\n",
       "      <td>Wrapping</td>\n",
       "      <td>JP-Sourced</td>\n",
       "      <td>Cosmetics, Toothpaste, Other Toileries Manufac...</td>\n",
       "      <td>Wrapping</td>\n",
       "      <td>JP-Sourced</td>\n",
       "      <td>6.963229e+02</td>\n",
       "      <td>Total</td>\n",
       "    </tr>\n",
       "    <tr>\n",
       "      <th>16</th>\n",
       "      <td>Hair Care</td>\n",
       "      <td>Hair Care</td>\n",
       "      <td>Plastic</td>\n",
       "      <td>Wrapping</td>\n",
       "      <td>JP-Sourced</td>\n",
       "      <td>Cosmetics, Toothpaste, Other Toileries Manufac...</td>\n",
       "      <td>Wrapping</td>\n",
       "      <td>NA</td>\n",
       "      <td>4.086231e+05</td>\n",
       "      <td>Total</td>\n",
       "    </tr>\n",
       "  </tbody>\n",
       "</table>\n",
       "</div>"
      ],
      "text/plain": [
       "   Sub Sector   Category Final Classification Final Material Classification  \\\n",
       "0   Hair Care  Hair Care          Glass Other                     Container   \n",
       "1   Hair Care  Hair Care          Glass Other                     Container   \n",
       "2   Hair Care  Hair Care                   NA                     Container   \n",
       "3   Hair Care  Hair Care                   NA                     Container   \n",
       "4   Hair Care  Hair Care                Paper                     Container   \n",
       "5   Hair Care  Hair Care                Paper                     Container   \n",
       "6   Hair Care  Hair Care                Paper                     Container   \n",
       "7   Hair Care  Hair Care                Paper                     Container   \n",
       "8   Hair Care  Hair Care              Plastic                     Container   \n",
       "9   Hair Care  Hair Care              Plastic                     Container   \n",
       "10  Hair Care  Hair Care              Plastic                     Container   \n",
       "11  Hair Care  Hair Care              Plastic                     Container   \n",
       "12  Hair Care  Hair Care              Plastic                     Container   \n",
       "13  Hair Care  Hair Care              Plastic                     Container   \n",
       "14  Hair Care  Hair Care              Plastic                      Wrapping   \n",
       "15  Hair Care  Hair Care              Plastic                      Wrapping   \n",
       "16  Hair Care  Hair Care              Plastic                      Wrapping   \n",
       "\n",
       "        Source                            Business Classification  \\\n",
       "0   JP-Sourced  Cosmetics, Toothpaste, Other Toileries Manufac...   \n",
       "1   JP-Sourced  Cosmetics, Toothpaste, Other Toileries Manufac...   \n",
       "2     Imported  Cosmetics, Toothpaste, Other Toileries Manufac...   \n",
       "3   JP-Sourced  Cosmetics, Toothpaste, Other Toileries Manufac...   \n",
       "4     Imported  Cosmetics, Toothpaste, Other Toileries Manufac...   \n",
       "5   JP-Sourced  Cosmetics, Toothpaste, Other Toileries Manufac...   \n",
       "6   JP-Sourced  Cosmetics, Toothpaste, Other Toileries Manufac...   \n",
       "7   JP-Sourced  Cosmetics, Toothpaste, Other Toileries Manufac...   \n",
       "8     Imported  Cosmetics, Toothpaste, Other Toileries Manufac...   \n",
       "9     Imported  Cosmetics, Toothpaste, Other Toileries Manufac...   \n",
       "10  JP-Sourced  Cosmetics, Toothpaste, Other Toileries Manufac...   \n",
       "11  JP-Sourced  Cosmetics, Toothpaste, Other Toileries Manufac...   \n",
       "12  JP-Sourced  Cosmetics, Toothpaste, Other Toileries Manufac...   \n",
       "13  JP-Sourced  Cosmetics, Toothpaste, Other Toileries Manufac...   \n",
       "14    Imported  Cosmetics, Toothpaste, Other Toileries Manufac...   \n",
       "15  JP-Sourced  Cosmetics, Toothpaste, Other Toileries Manufac...   \n",
       "16  JP-Sourced  Cosmetics, Toothpaste, Other Toileries Manufac...   \n",
       "\n",
       "   Final Material Classification_Copy Source_Copy       CY Cost  \\\n",
       "0                           Container  JP-Sourced  5.755880e+04   \n",
       "1                           Container          NA  6.676196e+04   \n",
       "2                                  NA    Imported  0.000000e+00   \n",
       "3                                  NA          NA  0.000000e+00   \n",
       "4                           Container    Imported  2.441973e+04   \n",
       "5                           Container  JP-Sourced  1.498056e+03   \n",
       "6                           Container          NA  1.366027e+05   \n",
       "7                                  NA          NA  9.108982e+00   \n",
       "8                           Container    Imported  1.180920e+07   \n",
       "9                                  NA    Imported  5.163278e+04   \n",
       "10                          Container  JP-Sourced  2.348996e+05   \n",
       "11                          Container          NA  1.928945e+08   \n",
       "12                                 NA  JP-Sourced  1.893961e+00   \n",
       "13                                 NA          NA  6.845673e+05   \n",
       "14                           Wrapping    Imported  1.840018e+05   \n",
       "15                           Wrapping  JP-Sourced  6.963229e+02   \n",
       "16                           Wrapping          NA  4.086231e+05   \n",
       "\n",
       "   Total Weight/Import  \n",
       "0                Total  \n",
       "1                Total  \n",
       "2                Total  \n",
       "3                Total  \n",
       "4                Total  \n",
       "5                Total  \n",
       "6                Total  \n",
       "7                Total  \n",
       "8                Total  \n",
       "9                Total  \n",
       "10               Total  \n",
       "11               Total  \n",
       "12               Total  \n",
       "13               Total  \n",
       "14               Total  \n",
       "15               Total  \n",
       "16               Total  "
      ]
     },
     "execution_count": 121,
     "metadata": {},
     "output_type": "execute_result"
    }
   ],
   "source": [
    "summary_1"
   ]
  },
  {
   "cell_type": "code",
   "execution_count": 122,
   "id": "7eb2a064-d964-42a7-a247-15755a1774b1",
   "metadata": {},
   "outputs": [],
   "source": [
    "# summary_1 = pd.merge(summary_1, odi_cal[['Business Classification', 'Container/Wrapping']], left_on='Business Classification', right_on='Business Classification', how='left')"
   ]
  },
  {
   "cell_type": "code",
   "execution_count": 123,
   "id": "f8296e04-1f14-4b03-a425-efd838826213",
   "metadata": {},
   "outputs": [],
   "source": [
    "output_file_with_data = 'summary_1.xlsx'\n",
    "summary_1.to_excel(output_file_with_data, index=False)"
   ]
  },
  {
   "cell_type": "code",
   "execution_count": 124,
   "id": "8b413bd9-18f9-4752-a64e-cacd9a7f9e65",
   "metadata": {},
   "outputs": [],
   "source": [
    "Summery_imp = upload_base_file"
   ]
  },
  {
   "cell_type": "code",
   "execution_count": 125,
   "id": "8f1dee20-9c4f-40f9-abb9-e56b14b9784c",
   "metadata": {},
   "outputs": [
    {
     "data": {
      "text/plain": [
       "array(['JP-Sourced', 'Imported'], dtype=object)"
      ]
     },
     "execution_count": 125,
     "metadata": {},
     "output_type": "execute_result"
    }
   ],
   "source": [
    "Summery_imp['Source'].unique()"
   ]
  },
  {
   "cell_type": "code",
   "execution_count": 126,
   "id": "ea021dfd-b6f4-49cb-9a5f-90c518c8029e",
   "metadata": {},
   "outputs": [],
   "source": [
    "Summery_imp= Summery_imp[Summery_imp['Source'] == 'Imported']"
   ]
  },
  {
   "cell_type": "code",
   "execution_count": 127,
   "id": "503642af-fe12-453c-a2c7-755b7c92568b",
   "metadata": {},
   "outputs": [],
   "source": [
    "Summery_imp = Summery_imp[['Sub Sector','Category', 'CY Weight', 'Recycling Fees (Imported)','Final Classification','Final Material Classification','Final Material Classification_Copy','Source','Source_Copy', 'Business Classification']]"
   ]
  },
  {
   "cell_type": "code",
   "execution_count": 128,
   "id": "b119fea7-d2d3-4d82-9442-60a3a4c20ddb",
   "metadata": {},
   "outputs": [],
   "source": [
    "Summery_imp = Summery_imp.groupby(['Sub Sector','Category', 'Final Classification','Final Material Classification','Source','Business Classification','Final Material Classification_Copy','Source_Copy'])['Recycling Fees (Imported)'].sum().reset_index()"
   ]
  },
  {
   "cell_type": "code",
   "execution_count": 129,
   "id": "118f5644-f0e6-46d9-ade9-15f0b641d1a4",
   "metadata": {},
   "outputs": [],
   "source": [
    "Summery_imp['Total Weight/Import'] = 'Import'"
   ]
  },
  {
   "cell_type": "code",
   "execution_count": 130,
   "id": "1434d3c6-c035-43c4-9dad-f5ad09884a46",
   "metadata": {},
   "outputs": [],
   "source": [
    "Summery_imp.rename(columns={'Recycling Fees (Imported)':'CY Cost'}, inplace=True)"
   ]
  },
  {
   "cell_type": "code",
   "execution_count": 131,
   "id": "41b4661d-8088-47f4-adae-c5a394b35b44",
   "metadata": {},
   "outputs": [],
   "source": [
    "summery = pd.concat([summary_1, Summery_imp], ignore_index=True)"
   ]
  },
  {
   "cell_type": "code",
   "execution_count": 132,
   "id": "d5d21233-73cd-435e-b3a9-6cf49347aa24",
   "metadata": {},
   "outputs": [],
   "source": [
    "output_file_with_data = 'summery.xlsx'\n",
    "summery.to_excel(output_file_with_data, index=False)"
   ]
  },
  {
   "cell_type": "code",
   "execution_count": null,
   "id": "7fe0f70a-804b-4ca5-82f8-999ee7cd2865",
   "metadata": {},
   "outputs": [],
   "source": []
  },
  {
   "cell_type": "code",
   "execution_count": 100,
   "id": "1057e38e-4290-433b-bd11-57f2fed24c24",
   "metadata": {},
   "outputs": [],
   "source": [
    "# pd.merge(reporting_1, unpivoted_df[['bst','Quantity','Material']],left_on='Concatenated Classification', right_on='bst', how='left')"
   ]
  },
  {
   "cell_type": "code",
   "execution_count": 101,
   "id": "58c6c75e-e6ed-4625-a829-a1d4e4f4b825",
   "metadata": {},
   "outputs": [],
   "source": [
    "# reporting_1"
   ]
  },
  {
   "cell_type": "code",
   "execution_count": 102,
   "id": "6840a27e-3361-4955-8d7f-dccfd3c4ec65",
   "metadata": {},
   "outputs": [],
   "source": [
    "# reporting_1= reporting[reporting['Source'] != 'Imported']\n",
    "\n",
    "# reporting_1=pd.merge(reporting_1, unpivoted_df[['bst','Quantity','Material']],left_on='Concatenated Classification', right_on='bst', how='inner')"
   ]
  },
  {
   "cell_type": "code",
   "execution_count": 103,
   "id": "724737f1-9f45-4547-b098-90264601819d",
   "metadata": {},
   "outputs": [],
   "source": [
    "# output_file_with_data = 'reporting_1.xlsx'\n",
    "# reporting_1.to_excel(output_file_with_data, index=False)"
   ]
  },
  {
   "cell_type": "code",
   "execution_count": 104,
   "id": "235ad012-7ca0-4ba9-8fb6-acf318928e47",
   "metadata": {},
   "outputs": [],
   "source": [
    "# reporting_2= reporting[reporting['Source'] == 'Imported']\n",
    "# reporting_2=pd.merge(reporting_2, unpivoted_df[['bst','Quantity','Material']],left_on='Concatenated Classification', right_on='bst', how='inner')"
   ]
  },
  {
   "cell_type": "code",
   "execution_count": 105,
   "id": "0d7cc090-27c5-4d14-a37a-4ce228fe64c1",
   "metadata": {},
   "outputs": [],
   "source": [
    "# output_file_with_data = 'reporting_2.xlsx'\n",
    "# reporting_2.to_excel(output_file_with_data, index=False)"
   ]
  },
  {
   "cell_type": "code",
   "execution_count": 106,
   "id": "6c152bad-976e-43a7-aa2f-6e83a728a800",
   "metadata": {},
   "outputs": [],
   "source": [
    "# Final_base_file = pd.concat([reporting_1, reporting_2], ignore_index=True)"
   ]
  },
  {
   "cell_type": "code",
   "execution_count": 58,
   "id": "13155e6a-775f-4e43-9008-afa738a45829",
   "metadata": {},
   "outputs": [],
   "source": [
    "# output_file_with_data = 'Final_base_file.xlsx'\n",
    "# Final_base_file.to_excel(output_file_with_data, index=False)"
   ]
  },
  {
   "cell_type": "code",
   "execution_count": null,
   "id": "def6daa9-53cd-42f6-bc37-cf8c7c0071b7",
   "metadata": {},
   "outputs": [],
   "source": []
  }
 ],
 "metadata": {
  "kernelspec": {
   "display_name": "Python [conda env:base] *",
   "language": "python",
   "name": "conda-base-py"
  },
  "language_info": {
   "codemirror_mode": {
    "name": "ipython",
    "version": 3
   },
   "file_extension": ".py",
   "mimetype": "text/x-python",
   "name": "python",
   "nbconvert_exporter": "python",
   "pygments_lexer": "ipython3",
   "version": "3.13.5"
  }
 },
 "nbformat": 4,
 "nbformat_minor": 5
}
